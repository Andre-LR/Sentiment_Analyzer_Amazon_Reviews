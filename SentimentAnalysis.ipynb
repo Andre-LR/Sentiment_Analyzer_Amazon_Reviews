{
 "cells": [
  {
   "cell_type": "markdown",
   "metadata": {},
   "source": [
    "### Sentiment Analysis Python"
   ]
  },
  {
   "cell_type": "markdown",
   "metadata": {},
   "source": [
    "Natural Language Processing Python Project creating a Sentiment Analysis classifier using 3 different techniques:\n",
    "\n",
    "        K-nn (K-nearest neighbors)\n",
    "        VADER (Valence Aware Dictionary and sEntiment Reasoner)\n",
    "        Logistic Regression model\n"
   ]
  },
  {
   "cell_type": "markdown",
   "metadata": {},
   "source": [
    "#### About Dataset\n"
   ]
  },
  {
   "cell_type": "markdown",
   "metadata": {},
   "source": [
    "This dataset consists of thousands of Amazon customer reviews (Text) and star ratings (Score) for learning how to train model for sentiment analysis."
   ]
  },
  {
   "cell_type": "markdown",
   "metadata": {},
   "source": [
    "### Step 0. Read in Data and analyses"
   ]
  },
  {
   "cell_type": "code",
   "execution_count": 88,
   "metadata": {},
   "outputs": [],
   "source": [
    "import pandas as pd                     # pip install pandas\n",
    "import re                               # for regex\n",
    "import nltk                             # pip install nltk\n",
    "import matplotlib.pyplot as plt         # pip install matplotlib\n",
    "\n",
    "from nltk.corpus import stopwords                                       # pip install nltk\n",
    "from nltk.tokenize import word_tokenize\n",
    "from nltk.stem import SnowballStemmer\n",
    "from nltk.sentiment.vader import SentimentIntensityAnalyzer             # Vader Sentiment Analysis (eng)\n",
    "from sklearn.feature_extraction.text import CountVectorizer             # pip install scikit-learn\n",
    "from sklearn.neighbors import KNeighborsClassifier\n",
    "from sklearn.linear_model import LogisticRegression\n",
    "from sklearn.model_selection import train_test_split\n",
    "from sklearn.metrics import accuracy_score\n",
    "from sklearn.metrics import precision_score\n",
    "from sklearn.metrics import recall_score\n",
    "from sklearn.metrics import f1_score"
   ]
  },
  {
   "cell_type": "code",
   "execution_count": 89,
   "metadata": {},
   "outputs": [],
   "source": [
    "# Read in data\n",
    "df = pd.read_csv('Reviews.csv')"
   ]
  },
  {
   "cell_type": "code",
   "execution_count": 90,
   "metadata": {},
   "outputs": [
    {
     "name": "stdout",
     "output_type": "stream",
     "text": [
      "<class 'pandas.core.frame.DataFrame'>\n",
      "RangeIndex: 5000 entries, 0 to 4999\n",
      "Data columns (total 5 columns):\n",
      " #   Column       Non-Null Count  Dtype \n",
      "---  ------       --------------  ----- \n",
      " 0   Id           5000 non-null   int64 \n",
      " 1   ProductId    5000 non-null   object\n",
      " 2   ProfileName  5000 non-null   object\n",
      " 3   Score        5000 non-null   int64 \n",
      " 4   Text         5000 non-null   object\n",
      "dtypes: int64(2), object(3)\n",
      "memory usage: 195.4+ KB\n"
     ]
    }
   ],
   "source": [
    "# Attribute information\n",
    "df.info()"
   ]
  },
  {
   "cell_type": "code",
   "execution_count": 91,
   "metadata": {},
   "outputs": [
    {
     "data": {
      "text/html": [
       "<div>\n",
       "<style scoped>\n",
       "    .dataframe tbody tr th:only-of-type {\n",
       "        vertical-align: middle;\n",
       "    }\n",
       "\n",
       "    .dataframe tbody tr th {\n",
       "        vertical-align: top;\n",
       "    }\n",
       "\n",
       "    .dataframe thead th {\n",
       "        text-align: right;\n",
       "    }\n",
       "</style>\n",
       "<table border=\"1\" class=\"dataframe\">\n",
       "  <thead>\n",
       "    <tr style=\"text-align: right;\">\n",
       "      <th></th>\n",
       "      <th>Id</th>\n",
       "      <th>ProductId</th>\n",
       "      <th>ProfileName</th>\n",
       "      <th>Score</th>\n",
       "      <th>Text</th>\n",
       "    </tr>\n",
       "  </thead>\n",
       "  <tbody>\n",
       "    <tr>\n",
       "      <th>0</th>\n",
       "      <td>1</td>\n",
       "      <td>B001E4KFG0</td>\n",
       "      <td>delmartian</td>\n",
       "      <td>5</td>\n",
       "      <td>I have bought several of the Vitality canned d...</td>\n",
       "    </tr>\n",
       "    <tr>\n",
       "      <th>1</th>\n",
       "      <td>2</td>\n",
       "      <td>B00813GRG4</td>\n",
       "      <td>dll pa</td>\n",
       "      <td>1</td>\n",
       "      <td>Product arrived labeled as Jumbo Salted Peanut...</td>\n",
       "    </tr>\n",
       "    <tr>\n",
       "      <th>2</th>\n",
       "      <td>3</td>\n",
       "      <td>B000LQOCH0</td>\n",
       "      <td>Natalia Corres \"Natalia Corres\"</td>\n",
       "      <td>4</td>\n",
       "      <td>This is a confection that has been around a fe...</td>\n",
       "    </tr>\n",
       "    <tr>\n",
       "      <th>3</th>\n",
       "      <td>4</td>\n",
       "      <td>B000UA0QIQ</td>\n",
       "      <td>Karl</td>\n",
       "      <td>2</td>\n",
       "      <td>If you are looking for the secret ingredient i...</td>\n",
       "    </tr>\n",
       "    <tr>\n",
       "      <th>4</th>\n",
       "      <td>5</td>\n",
       "      <td>B006K2ZZ7K</td>\n",
       "      <td>Michael D. Bigham \"M. Wassir\"</td>\n",
       "      <td>5</td>\n",
       "      <td>Great taffy at a great price.  There was a wid...</td>\n",
       "    </tr>\n",
       "  </tbody>\n",
       "</table>\n",
       "</div>"
      ],
      "text/plain": [
       "   Id   ProductId                      ProfileName  Score  \\\n",
       "0   1  B001E4KFG0                       delmartian      5   \n",
       "1   2  B00813GRG4                           dll pa      1   \n",
       "2   3  B000LQOCH0  Natalia Corres \"Natalia Corres\"      4   \n",
       "3   4  B000UA0QIQ                             Karl      2   \n",
       "4   5  B006K2ZZ7K    Michael D. Bigham \"M. Wassir\"      5   \n",
       "\n",
       "                                                Text  \n",
       "0  I have bought several of the Vitality canned d...  \n",
       "1  Product arrived labeled as Jumbo Salted Peanut...  \n",
       "2  This is a confection that has been around a fe...  \n",
       "3  If you are looking for the secret ingredient i...  \n",
       "4  Great taffy at a great price.  There was a wid...  "
      ]
     },
     "execution_count": 91,
     "metadata": {},
     "output_type": "execute_result"
    }
   ],
   "source": [
    "# Show the first 5 data of the file\n",
    "df.head()"
   ]
  },
  {
   "cell_type": "markdown",
   "metadata": {},
   "source": [
    "- Data analysis"
   ]
  },
  {
   "cell_type": "code",
   "execution_count": 92,
   "metadata": {},
   "outputs": [
    {
     "name": "stdout",
     "output_type": "stream",
     "text": [
      "Score Count\n",
      "1     469\n",
      "2     290\n",
      "3     395\n",
      "4     712\n",
      "5    3134\n",
      "Name: Score, dtype: int64\n"
     ]
    },
    {
     "data": {
      "text/plain": [
       "[]"
      ]
     },
     "execution_count": 92,
     "metadata": {},
     "output_type": "execute_result"
    },
    {
     "data": {
      "image/png": "[encoded data removed]",
      "text/plain": [
       "<Figure size 1000x500 with 1 Axes>"
      ]
     },
     "metadata": {},
     "output_type": "display_data"
    }
   ],
   "source": [
    "# Overview of reviews\n",
    "print(\"Score \" + \"Count\")\n",
    "print(df['Score'].value_counts().sort_index())\n",
    "\n",
    "# Data visualization\n",
    "graph = df['Score'].value_counts().sort_index().plot(kind='bar', title='Number of evaluations per score', figsize=(10, 5), color='red')\n",
    "graph.set_xlabel('Score')\n",
    "graph.set_ylabel('Quantity of reviews')\n",
    "graph.plot()"
   ]
  },
  {
   "cell_type": "markdown",
   "metadata": {},
   "source": [
    "- Text labeling\n",
    "\n",
    "    The classification of each review will be given according to the \"Score\".\n",
    "\n",
    "        Score > 3: Positive\n",
    "\n",
    "        Score < 3: Negative\n",
    "\n",
    "        Score = 3: Neutral"
   ]
  },
  {
   "cell_type": "code",
   "execution_count": 93,
   "metadata": {},
   "outputs": [
    {
     "data": {
      "text/plain": [
       "[]"
      ]
     },
     "execution_count": 93,
     "metadata": {},
     "output_type": "execute_result"
    },
    {
     "data": {
      "image/png": "[encoded data removed]",
      "text/plain": [
       "<Figure size 1000x500 with 1 Axes>"
      ]
     },
     "metadata": {},
     "output_type": "display_data"
    }
   ],
   "source": [
    "df['Sentiment'] = df['Score'].apply(lambda score: 'Positive' if score > 3 else ('Negative' if score < 3 else 'Neutral'))\n",
    "\n",
    "# plot comparative graph\n",
    "graph = df['Sentiment'].value_counts().sort_index().plot(kind='bar', title='Quantidade de avaliações positivas, negativas e neutras', figsize=(10, 5), color='red')\n",
    "graph.set_xlabel('Sentiment')\n",
    "graph.set_ylabel('Quantity of reviews')\n",
    "graph.plot()"
   ]
  },
  {
   "cell_type": "markdown",
   "metadata": {},
   "source": [
    "### Step 1. Data cleaning"
   ]
  },
  {
   "cell_type": "markdown",
   "metadata": {},
   "source": [
    "Stopwords, HTML Tags, special characters and punctuation will be removed. The texts will be transformed into lowercase.\n",
    "\n",
    "Stopwords are words that don't bring meaning to our sentence, like \"I, are, all, mine, yours, ours, theirs, was...\".\n",
    "\n",
    "Normalization of similar words using \"stemming\". Stemming is the technique for removing suffixes and prefixes.\n",
    "\n",
    "        Ex: Watch, Watched, Watching"
   ]
  },
  {
   "cell_type": "markdown",
   "metadata": {},
   "source": [
    "- Remove null values"
   ]
  },
  {
   "cell_type": "code",
   "execution_count": 94,
   "metadata": {},
   "outputs": [
    {
     "name": "stdout",
     "output_type": "stream",
     "text": [
      "<class 'pandas.core.frame.DataFrame'>\n",
      "Int64Index: 5000 entries, 0 to 4999\n",
      "Data columns (total 6 columns):\n",
      " #   Column       Non-Null Count  Dtype \n",
      "---  ------       --------------  ----- \n",
      " 0   Id           5000 non-null   int64 \n",
      " 1   ProductId    5000 non-null   object\n",
      " 2   ProfileName  5000 non-null   object\n",
      " 3   Score        5000 non-null   int64 \n",
      " 4   Text         5000 non-null   object\n",
      " 5   Sentiment    5000 non-null   object\n",
      "dtypes: int64(2), object(4)\n",
      "memory usage: 273.4+ KB\n"
     ]
    }
   ],
   "source": [
    "# check and remove null reviews\n",
    "def remove_null_reviews(df):\n",
    "    df = df[df['Text'].notnull()]\n",
    "    return df\n",
    "\n",
    "df = remove_null_reviews(df)\n",
    "df.info()"
   ]
  },
  {
   "cell_type": "markdown",
   "metadata": {},
   "source": [
    "- Remove duplicates reviews"
   ]
  },
  {
   "cell_type": "code",
   "execution_count": 95,
   "metadata": {},
   "outputs": [
    {
     "name": "stdout",
     "output_type": "stream",
     "text": [
      "<class 'pandas.core.frame.DataFrame'>\n",
      "Int64Index: 4993 entries, 0 to 4999\n",
      "Data columns (total 6 columns):\n",
      " #   Column       Non-Null Count  Dtype \n",
      "---  ------       --------------  ----- \n",
      " 0   Id           4993 non-null   int64 \n",
      " 1   ProductId    4993 non-null   object\n",
      " 2   ProfileName  4993 non-null   object\n",
      " 3   Score        4993 non-null   int64 \n",
      " 4   Text         4993 non-null   object\n",
      " 5   Sentiment    4993 non-null   object\n",
      "dtypes: int64(2), object(4)\n",
      "memory usage: 273.1+ KB\n"
     ]
    }
   ],
   "source": [
    "# check dupicates and remove them\n",
    "def remove_duplicates(df):\n",
    "    df.drop_duplicates(subset = ['ProductId', 'ProfileName', 'Text'], keep = 'first', inplace = True)\n",
    "    return df\n",
    "\n",
    "df = remove_duplicates(df)\n",
    "df.info()"
   ]
  },
  {
   "cell_type": "markdown",
   "metadata": {},
   "source": [
    "- Remove HTML Tags"
   ]
  },
  {
   "cell_type": "code",
   "execution_count": 96,
   "metadata": {},
   "outputs": [
    {
     "data": {
      "text/plain": [
       "'I have bought several of the Vitality canned dog food products and have found them all to be of good quality. The product looks more like a stew than a processed meat and it smells better. My Labrador is finicky and she appreciates this product better than  most.'"
      ]
     },
     "execution_count": 96,
     "metadata": {},
     "output_type": "execute_result"
    }
   ],
   "source": [
    "def remove_tags(text):\n",
    "    TAG_RE = re.compile(r'<[^>]+>')\n",
    "    return TAG_RE.sub('', text)\n",
    "\n",
    "df.Text = df.Text.apply(remove_tags)\n",
    "df.Text[0]"
   ]
  },
  {
   "cell_type": "markdown",
   "metadata": {},
   "source": [
    "- Remove special characters (punctuation)"
   ]
  },
  {
   "cell_type": "code",
   "execution_count": 97,
   "metadata": {},
   "outputs": [
    {
     "data": {
      "text/plain": [
       "'I have bought several of the Vitality canned dog food products and have found them all to be of good quality The product looks more like a stew than a processed meat and it smells better My Labrador is finicky and she appreciates this product better than  most'"
      ]
     },
     "execution_count": 97,
     "metadata": {},
     "output_type": "execute_result"
    }
   ],
   "source": [
    "def remove_special_characters(text):\n",
    "    pattern = r'[^a-zA-z0-9\\s]'\n",
    "    text = re.sub(pattern, '', text)\n",
    "    return text\n",
    "\n",
    "df.Text = df.Text.apply(remove_special_characters)\n",
    "df.Text[0]"
   ]
  },
  {
   "cell_type": "markdown",
   "metadata": {},
   "source": [
    "- Reviews to lowercase"
   ]
  },
  {
   "cell_type": "code",
   "execution_count": 98,
   "metadata": {},
   "outputs": [
    {
     "data": {
      "text/plain": [
       "'i have bought several of the vitality canned dog food products and have found them all to be of good quality the product looks more like a stew than a processed meat and it smells better my labrador is finicky and she appreciates this product better than  most'"
      ]
     },
     "execution_count": 98,
     "metadata": {},
     "output_type": "execute_result"
    }
   ],
   "source": [
    "def lower_case(text):\n",
    "    return text.lower()\n",
    "\n",
    "df.Text = df.Text.apply(lower_case)\n",
    "df.Text[0]"
   ]
  },
  {
   "cell_type": "markdown",
   "metadata": {},
   "source": [
    "- Remove stopwords"
   ]
  },
  {
   "cell_type": "code",
   "execution_count": 99,
   "metadata": {},
   "outputs": [
    {
     "name": "stderr",
     "output_type": "stream",
     "text": [
      "[nltk_data] Downloading package stopwords to\n",
      "[nltk_data]     C:\\Users\\Andre_Rodrigues\\AppData\\Roaming\\nltk_data...\n",
      "[nltk_data]   Package stopwords is already up-to-date!\n",
      "[nltk_data] Downloading package punkt to\n",
      "[nltk_data]     C:\\Users\\Andre_Rodrigues\\AppData\\Roaming\\nltk_data...\n",
      "[nltk_data]   Package punkt is already up-to-date!\n"
     ]
    },
    {
     "data": {
      "text/plain": [
       "'bought several vitality canned dog food products found good quality product looks like stew processed meat smells better labrador finicky appreciates product better'"
      ]
     },
     "execution_count": 99,
     "metadata": {},
     "output_type": "execute_result"
    }
   ],
   "source": [
    "nltk.download('stopwords')\n",
    "nltk.download('punkt')\n",
    "\n",
    "def remove_stopwords(text):\n",
    "    stop_words = set(stopwords.words('english'))\n",
    "   \n",
    "    # Add specific words to the stop_words list if necessary\n",
    "    stop_words.update(['rt'])\n",
    "    \n",
    "    words = word_tokenize(text)\n",
    "    filtered_text = [word for word in words if word not in stop_words]\n",
    "    \n",
    "    return filtered_text\n",
    "\n",
    "df.Text = df.Text.apply(remove_stopwords)\n",
    "\n",
    "# transform list to string\n",
    "df.Text = df.Text.apply(lambda x: ' '.join(x))\n",
    "df.Text[0]"
   ]
  },
  {
   "cell_type": "markdown",
   "metadata": {},
   "source": [
    "- Data normalization with 'stemming' technique"
   ]
  },
  {
   "cell_type": "code",
   "execution_count": 100,
   "metadata": {},
   "outputs": [
    {
     "data": {
      "text/plain": [
       "'bought sever vital can dog food product found good qualiti product look like stew process meat smell better labrador finicki appreci product better'"
      ]
     },
     "execution_count": 100,
     "metadata": {},
     "output_type": "execute_result"
    }
   ],
   "source": [
    "def stemming_words(text):\n",
    "    stemmer = SnowballStemmer('english')\n",
    "    words = word_tokenize(text)\n",
    "    stemmed_words = [stemmer.stem(word) for word in words]\n",
    "    return stemmed_words\n",
    "\n",
    "df.Text = df.Text.apply(stemming_words)\n",
    "\n",
    "# transform list to string\n",
    "df.Text = df.Text.apply(lambda x: ' '.join(x))\n",
    "df.Text[0]"
   ]
  },
  {
   "cell_type": "markdown",
   "metadata": {},
   "source": [
    "- Check frequent words in the dataset"
   ]
  },
  {
   "cell_type": "markdown",
   "metadata": {},
   "source": [
    "        It can help us to insert new words into Stopwords list to be excluded from our analysis"
   ]
  },
  {
   "cell_type": "code",
   "execution_count": 101,
   "metadata": {},
   "outputs": [],
   "source": [
    "def get_top_n_words(corpus, n=None):\n",
    "    vec = CountVectorizer().fit(corpus)\n",
    "    bag_of_words = vec.transform(corpus)\n",
    "    sum_words = bag_of_words.sum(axis=0)\n",
    "    words_freq = [(word, sum_words[0, idx]) for word, idx in vec.vocabulary_.items()]\n",
    "    words_freq =sorted(words_freq, key = lambda x: x[1], reverse=True)\n",
    "    return words_freq[:n]"
   ]
  },
  {
   "cell_type": "code",
   "execution_count": 102,
   "metadata": {},
   "outputs": [],
   "source": [
    "# check 20 most common words\n",
    "top_words = get_top_n_words(df.Text, n=20)"
   ]
  },
  {
   "cell_type": "code",
   "execution_count": 103,
   "metadata": {},
   "outputs": [
    {
     "data": {
      "text/html": [
       "<div>\n",
       "<style scoped>\n",
       "    .dataframe tbody tr th:only-of-type {\n",
       "        vertical-align: middle;\n",
       "    }\n",
       "\n",
       "    .dataframe tbody tr th {\n",
       "        vertical-align: top;\n",
       "    }\n",
       "\n",
       "    .dataframe thead th {\n",
       "        text-align: right;\n",
       "    }\n",
       "</style>\n",
       "<table border=\"1\" class=\"dataframe\">\n",
       "  <thead>\n",
       "    <tr style=\"text-align: right;\">\n",
       "      <th></th>\n",
       "      <th>Word</th>\n",
       "      <th>Frequence</th>\n",
       "    </tr>\n",
       "  </thead>\n",
       "  <tbody>\n",
       "    <tr>\n",
       "      <th>0</th>\n",
       "      <td>like</td>\n",
       "      <td>2286</td>\n",
       "    </tr>\n",
       "    <tr>\n",
       "      <th>1</th>\n",
       "      <td>tast</td>\n",
       "      <td>2082</td>\n",
       "    </tr>\n",
       "    <tr>\n",
       "      <th>2</th>\n",
       "      <td>flavor</td>\n",
       "      <td>1823</td>\n",
       "    </tr>\n",
       "    <tr>\n",
       "      <th>3</th>\n",
       "      <td>good</td>\n",
       "      <td>1778</td>\n",
       "    </tr>\n",
       "    <tr>\n",
       "      <th>4</th>\n",
       "      <td>product</td>\n",
       "      <td>1555</td>\n",
       "    </tr>\n",
       "    <tr>\n",
       "      <th>5</th>\n",
       "      <td>use</td>\n",
       "      <td>1504</td>\n",
       "    </tr>\n",
       "    <tr>\n",
       "      <th>6</th>\n",
       "      <td>love</td>\n",
       "      <td>1501</td>\n",
       "    </tr>\n",
       "    <tr>\n",
       "      <th>7</th>\n",
       "      <td>one</td>\n",
       "      <td>1482</td>\n",
       "    </tr>\n",
       "    <tr>\n",
       "      <th>8</th>\n",
       "      <td>great</td>\n",
       "      <td>1441</td>\n",
       "    </tr>\n",
       "    <tr>\n",
       "      <th>9</th>\n",
       "      <td>tri</td>\n",
       "      <td>1436</td>\n",
       "    </tr>\n",
       "    <tr>\n",
       "      <th>10</th>\n",
       "      <td>chip</td>\n",
       "      <td>1213</td>\n",
       "    </tr>\n",
       "    <tr>\n",
       "      <th>11</th>\n",
       "      <td>food</td>\n",
       "      <td>1174</td>\n",
       "    </tr>\n",
       "    <tr>\n",
       "      <th>12</th>\n",
       "      <td>coffe</td>\n",
       "      <td>1166</td>\n",
       "    </tr>\n",
       "    <tr>\n",
       "      <th>13</th>\n",
       "      <td>make</td>\n",
       "      <td>1143</td>\n",
       "    </tr>\n",
       "    <tr>\n",
       "      <th>14</th>\n",
       "      <td>get</td>\n",
       "      <td>1020</td>\n",
       "    </tr>\n",
       "    <tr>\n",
       "      <th>15</th>\n",
       "      <td>tea</td>\n",
       "      <td>984</td>\n",
       "    </tr>\n",
       "    <tr>\n",
       "      <th>16</th>\n",
       "      <td>would</td>\n",
       "      <td>958</td>\n",
       "    </tr>\n",
       "    <tr>\n",
       "      <th>17</th>\n",
       "      <td>bag</td>\n",
       "      <td>944</td>\n",
       "    </tr>\n",
       "    <tr>\n",
       "      <th>18</th>\n",
       "      <td>buy</td>\n",
       "      <td>909</td>\n",
       "    </tr>\n",
       "    <tr>\n",
       "      <th>19</th>\n",
       "      <td>realli</td>\n",
       "      <td>856</td>\n",
       "    </tr>\n",
       "  </tbody>\n",
       "</table>\n",
       "</div>"
      ],
      "text/plain": [
       "       Word  Frequence\n",
       "0      like       2286\n",
       "1      tast       2082\n",
       "2    flavor       1823\n",
       "3      good       1778\n",
       "4   product       1555\n",
       "5       use       1504\n",
       "6      love       1501\n",
       "7       one       1482\n",
       "8     great       1441\n",
       "9       tri       1436\n",
       "10     chip       1213\n",
       "11     food       1174\n",
       "12    coffe       1166\n",
       "13     make       1143\n",
       "14      get       1020\n",
       "15      tea        984\n",
       "16    would        958\n",
       "17      bag        944\n",
       "18      buy        909\n",
       "19   realli        856"
      ]
     },
     "execution_count": 103,
     "metadata": {},
     "output_type": "execute_result"
    }
   ],
   "source": [
    "top_df = pd.DataFrame(top_words)\n",
    "top_df.columns=[\"Word\", \"Frequence\"]\n",
    "top_df"
   ]
  },
  {
   "cell_type": "markdown",
   "metadata": {},
   "source": [
    "### Step 2. Bag of words"
   ]
  },
  {
   "cell_type": "markdown",
   "metadata": {},
   "source": [
    "Create the Bag of Words, which consists of a set of words that exist in our Dataset. Each word will only appear 1x in the BOW.\n",
    "\n",
    "We will perform the tokenization of our dataset. Tokenization consists of transforming a string into a list of words called tokens. Tokens can consist of words, emoticons, hashtags, links, or even individual characters. A basic way to tokenize words is to split text based on whitespace and punctuation.\n",
    "\n",
    "The NLTK library provides a default tokenizer with the word_tokenize(text) method\n",
    "\n",
    "With the words tokenized, we will put a representation of each in our \"bag of words\"."
   ]
  },
  {
   "cell_type": "code",
   "execution_count": 104,
   "metadata": {},
   "outputs": [],
   "source": [
    "# Simple BOW with 1 representation of each word\n",
    "def generate_bow(sentences):\n",
    "    words = CountVectorizer().fit(sentences)\n",
    "    # remove duplicates\n",
    "    words = list(set(words.get_feature_names()))\n",
    "    return words\n",
    "\n",
    "# Words and it's frequency BOW\n",
    "def generate_bow_freq(sentences):\n",
    "    vec = CountVectorizer().fit(sentences)\n",
    "    bag_of_words = vec.transform(sentences)\n",
    "    sum_words = bag_of_words.sum(axis=0)\n",
    "    words_freq = [(word, sum_words[0, idx]) for word, idx in vec.vocabulary_.items()]\n",
    "    words_freq = sorted(words_freq, key = lambda x: x[1], reverse=True)\n",
    "    return words_freq[0:]\n",
    "\n",
    "# Matrix BOW\n",
    "def generate_bow_matrix(sentences):\n",
    "    vec = CountVectorizer().fit(sentences)\n",
    "    bag_of_words = vec.transform(sentences)\n",
    "    return bag_of_words\n",
    "    "
   ]
  },
  {
   "cell_type": "markdown",
   "metadata": {},
   "source": [
    "### Step 3. Balanced Dataset"
   ]
  },
  {
   "cell_type": "markdown",
   "metadata": {},
   "source": [
    "The dataset that will be used to train the model must be balanced with the same amount of samples for pos and neg groups"
   ]
  },
  {
   "cell_type": "code",
   "execution_count": 105,
   "metadata": {},
   "outputs": [
    {
     "data": {
      "text/plain": [
       "Positive    3842\n",
       "Negative     756\n",
       "Neutral      395\n",
       "Name: Sentiment, dtype: int64"
      ]
     },
     "execution_count": 105,
     "metadata": {},
     "output_type": "execute_result"
    }
   ],
   "source": [
    "# verify how many positive and negative reviews we have\n",
    "df.Sentiment.value_counts()"
   ]
  },
  {
   "cell_type": "code",
   "execution_count": 106,
   "metadata": {},
   "outputs": [
    {
     "data": {
      "text/plain": [
       "Positive    395\n",
       "Negative    395\n",
       "Neutral     395\n",
       "Name: Sentiment, dtype: int64"
      ]
     },
     "execution_count": 106,
     "metadata": {},
     "output_type": "execute_result"
    }
   ],
   "source": [
    "# 3842 pos, 756 neh, 395 neu\n",
    "# We take 395 samples of each feeling type to form the balanced dataset\n",
    "df_balanced = df.groupby('Sentiment').head(395)\n",
    "df_balanced.Sentiment.value_counts()"
   ]
  },
  {
   "cell_type": "code",
   "execution_count": 107,
   "metadata": {},
   "outputs": [
    {
     "data": {
      "text/html": [
       "<div>\n",
       "<style scoped>\n",
       "    .dataframe tbody tr th:only-of-type {\n",
       "        vertical-align: middle;\n",
       "    }\n",
       "\n",
       "    .dataframe tbody tr th {\n",
       "        vertical-align: top;\n",
       "    }\n",
       "\n",
       "    .dataframe thead th {\n",
       "        text-align: right;\n",
       "    }\n",
       "</style>\n",
       "<table border=\"1\" class=\"dataframe\">\n",
       "  <thead>\n",
       "    <tr style=\"text-align: right;\">\n",
       "      <th></th>\n",
       "      <th>Id</th>\n",
       "      <th>ProductId</th>\n",
       "      <th>ProfileName</th>\n",
       "      <th>Score</th>\n",
       "      <th>Text</th>\n",
       "      <th>Sentiment</th>\n",
       "    </tr>\n",
       "  </thead>\n",
       "  <tbody>\n",
       "    <tr>\n",
       "      <th>0</th>\n",
       "      <td>1</td>\n",
       "      <td>B001E4KFG0</td>\n",
       "      <td>delmartian</td>\n",
       "      <td>5</td>\n",
       "      <td>bought sever vital can dog food product found ...</td>\n",
       "      <td>Positive</td>\n",
       "    </tr>\n",
       "    <tr>\n",
       "      <th>1</th>\n",
       "      <td>2</td>\n",
       "      <td>B00813GRG4</td>\n",
       "      <td>dll pa</td>\n",
       "      <td>1</td>\n",
       "      <td>product arriv label jumbo salt peanutsth peanu...</td>\n",
       "      <td>Negative</td>\n",
       "    </tr>\n",
       "    <tr>\n",
       "      <th>2</th>\n",
       "      <td>3</td>\n",
       "      <td>B000LQOCH0</td>\n",
       "      <td>Natalia Corres \"Natalia Corres\"</td>\n",
       "      <td>4</td>\n",
       "      <td>confect around centuri light pillowi citrus ge...</td>\n",
       "      <td>Positive</td>\n",
       "    </tr>\n",
       "    <tr>\n",
       "      <th>3</th>\n",
       "      <td>4</td>\n",
       "      <td>B000UA0QIQ</td>\n",
       "      <td>Karl</td>\n",
       "      <td>2</td>\n",
       "      <td>look secret ingredi robitussin believ found go...</td>\n",
       "      <td>Negative</td>\n",
       "    </tr>\n",
       "    <tr>\n",
       "      <th>4</th>\n",
       "      <td>5</td>\n",
       "      <td>B006K2ZZ7K</td>\n",
       "      <td>Michael D. Bigham \"M. Wassir\"</td>\n",
       "      <td>5</td>\n",
       "      <td>great taffi great price wide assort yummi taff...</td>\n",
       "      <td>Positive</td>\n",
       "    </tr>\n",
       "  </tbody>\n",
       "</table>\n",
       "</div>"
      ],
      "text/plain": [
       "   Id   ProductId                      ProfileName  Score  \\\n",
       "0   1  B001E4KFG0                       delmartian      5   \n",
       "1   2  B00813GRG4                           dll pa      1   \n",
       "2   3  B000LQOCH0  Natalia Corres \"Natalia Corres\"      4   \n",
       "3   4  B000UA0QIQ                             Karl      2   \n",
       "4   5  B006K2ZZ7K    Michael D. Bigham \"M. Wassir\"      5   \n",
       "\n",
       "                                                Text Sentiment  \n",
       "0  bought sever vital can dog food product found ...  Positive  \n",
       "1  product arriv label jumbo salt peanutsth peanu...  Negative  \n",
       "2  confect around centuri light pillowi citrus ge...  Positive  \n",
       "3  look secret ingredi robitussin believ found go...  Negative  \n",
       "4  great taffi great price wide assort yummi taff...  Positive  "
      ]
     },
     "execution_count": 107,
     "metadata": {},
     "output_type": "execute_result"
    }
   ],
   "source": [
    "df_balanced.head()"
   ]
  },
  {
   "cell_type": "markdown",
   "metadata": {},
   "source": [
    "### Step 4. Training, validation and testing datasets"
   ]
  },
  {
   "cell_type": "code",
   "execution_count": 108,
   "metadata": {},
   "outputs": [],
   "source": [
    "# Separate training(70%), validation(10%) and testing(20%) datasets\n",
    "df_train, df_test = train_test_split(df_balanced, test_size=0.2, random_state=42)\n",
    "df_train, df_validation = train_test_split(df_train, test_size=0.1, random_state=42)"
   ]
  },
  {
   "cell_type": "markdown",
   "metadata": {},
   "source": [
    "### Step 5. Classification models"
   ]
  },
  {
   "cell_type": "markdown",
   "metadata": {},
   "source": [
    "We will use the models for classification below"
   ]
  },
  {
   "cell_type": "markdown",
   "metadata": {},
   "source": [
    "#### K-NN"
   ]
  },
  {
   "cell_type": "markdown",
   "metadata": {},
   "source": [
    "KNN (K Nearest Neighbors) is a classification algorithm. KNN tries to predict the correct class for the test data by calculating the distance between the test data and all the training points. Then select the K number of points which is closet to the test data. The KNN algorithm calculates the probability of the test data belonging to the classes of ‘K’ training data and class holds the highest probability will be selected."
   ]
  },
  {
   "cell_type": "code",
   "execution_count": 109,
   "metadata": {},
   "outputs": [],
   "source": [
    "cv = CountVectorizer()\n",
    "\n",
    "# K-nn sentiment analysis model\n",
    "def generate_knn_model(d_train, vectorizer_array, k):\n",
    "    knn = KNeighborsClassifier(n_neighbors=k)\n",
    "    knn.fit(vectorizer_array, d_train.Sentiment)\n",
    "\n",
    "    return knn\n",
    "\n",
    "def knn_sentiment_analysis(df, vectorizer_array, model):\n",
    "    df_copy = df.copy()\n",
    "\n",
    "    df_copy['knn_predicted'] = model.predict(vectorizer_array)\n",
    "    df_copy['knn_accuracy'] = accuracy_score(df_copy.Sentiment, df_copy.knn_predicted)\n",
    "    df_copy['knn_precision'] = precision_score(df_copy.Sentiment, df_copy.knn_predicted, average='macro')\n",
    "    df_copy['knn_recall'] = recall_score(df_copy.Sentiment, df_copy.knn_predicted, average='macro')\n",
    "    df_copy['knn_f1'] = f1_score(df_copy.Sentiment, df_copy.knn_predicted, average='macro')\n",
    "\n",
    "    return df_copy"
   ]
  },
  {
   "cell_type": "markdown",
   "metadata": {},
   "source": [
    "- K-nn model"
   ]
  },
  {
   "cell_type": "code",
   "execution_count": 110,
   "metadata": {},
   "outputs": [],
   "source": [
    "knn_model = generate_knn_model(df_train, cv.fit_transform(df_train.Text), 5)"
   ]
  },
  {
   "cell_type": "markdown",
   "metadata": {},
   "source": [
    "- Training model"
   ]
  },
  {
   "cell_type": "code",
   "execution_count": 111,
   "metadata": {},
   "outputs": [
    {
     "name": "stdout",
     "output_type": "stream",
     "text": [
      "\n",
      "Quantity of positive and negative values in the dataset:\n",
      "Negative    288\n",
      "Positive    286\n",
      "Neutral     279\n",
      "Name: Sentiment, dtype: int64\n",
      "\n",
      "Quantity of positive and negative values found by the model:\n",
      "Negative    558\n",
      "Positive    173\n",
      "Neutral     122\n",
      "Name: knn_predicted, dtype: int64\n"
     ]
    },
    {
     "data": {
      "text/html": [
       "<div>\n",
       "<style scoped>\n",
       "    .dataframe tbody tr th:only-of-type {\n",
       "        vertical-align: middle;\n",
       "    }\n",
       "\n",
       "    .dataframe tbody tr th {\n",
       "        vertical-align: top;\n",
       "    }\n",
       "\n",
       "    .dataframe thead th {\n",
       "        text-align: right;\n",
       "    }\n",
       "</style>\n",
       "<table border=\"1\" class=\"dataframe\">\n",
       "  <thead>\n",
       "    <tr style=\"text-align: right;\">\n",
       "      <th></th>\n",
       "      <th>Id</th>\n",
       "      <th>ProductId</th>\n",
       "      <th>ProfileName</th>\n",
       "      <th>Score</th>\n",
       "      <th>Text</th>\n",
       "      <th>Sentiment</th>\n",
       "      <th>knn_predicted</th>\n",
       "      <th>knn_accuracy</th>\n",
       "      <th>knn_precision</th>\n",
       "      <th>knn_recall</th>\n",
       "      <th>knn_f1</th>\n",
       "    </tr>\n",
       "  </thead>\n",
       "  <tbody>\n",
       "    <tr>\n",
       "      <th>287</th>\n",
       "      <td>288</td>\n",
       "      <td>B001UJEN6C</td>\n",
       "      <td>Joseph Kagan</td>\n",
       "      <td>5</td>\n",
       "      <td>fantast product wish readili avail store tast ...</td>\n",
       "      <td>Positive</td>\n",
       "      <td>Positive</td>\n",
       "      <td>0.568581</td>\n",
       "      <td>0.665322</td>\n",
       "      <td>0.56582</td>\n",
       "      <td>0.552583</td>\n",
       "    </tr>\n",
       "    <tr>\n",
       "      <th>1895</th>\n",
       "      <td>1896</td>\n",
       "      <td>B001RVFDOO</td>\n",
       "      <td>Sandy P \"saprater\"</td>\n",
       "      <td>3</td>\n",
       "      <td>purchas hope healthi altern chip well theyr fa...</td>\n",
       "      <td>Neutral</td>\n",
       "      <td>Negative</td>\n",
       "      <td>0.568581</td>\n",
       "      <td>0.665322</td>\n",
       "      <td>0.56582</td>\n",
       "      <td>0.552583</td>\n",
       "    </tr>\n",
       "    <tr>\n",
       "      <th>175</th>\n",
       "      <td>176</td>\n",
       "      <td>B0025VRCJY</td>\n",
       "      <td>Dario Quinonez \"aprilkid\"</td>\n",
       "      <td>5</td>\n",
       "      <td>one best lemon juic tri recur custom due high ...</td>\n",
       "      <td>Positive</td>\n",
       "      <td>Positive</td>\n",
       "      <td>0.568581</td>\n",
       "      <td>0.665322</td>\n",
       "      <td>0.56582</td>\n",
       "      <td>0.552583</td>\n",
       "    </tr>\n",
       "    <tr>\n",
       "      <th>723</th>\n",
       "      <td>724</td>\n",
       "      <td>B000G6MBX2</td>\n",
       "      <td>HM</td>\n",
       "      <td>2</td>\n",
       "      <td>like potato chip hot sweet overwhelm tast garl...</td>\n",
       "      <td>Negative</td>\n",
       "      <td>Negative</td>\n",
       "      <td>0.568581</td>\n",
       "      <td>0.665322</td>\n",
       "      <td>0.56582</td>\n",
       "      <td>0.552583</td>\n",
       "    </tr>\n",
       "    <tr>\n",
       "      <th>357</th>\n",
       "      <td>358</td>\n",
       "      <td>B001SB099M</td>\n",
       "      <td>Thomas A. Johnson</td>\n",
       "      <td>4</td>\n",
       "      <td>great stuff depend especi million brand choos ...</td>\n",
       "      <td>Positive</td>\n",
       "      <td>Positive</td>\n",
       "      <td>0.568581</td>\n",
       "      <td>0.665322</td>\n",
       "      <td>0.56582</td>\n",
       "      <td>0.552583</td>\n",
       "    </tr>\n",
       "  </tbody>\n",
       "</table>\n",
       "</div>"
      ],
      "text/plain": [
       "        Id   ProductId                ProfileName  Score  \\\n",
       "287    288  B001UJEN6C               Joseph Kagan      5   \n",
       "1895  1896  B001RVFDOO         Sandy P \"saprater\"      3   \n",
       "175    176  B0025VRCJY  Dario Quinonez \"aprilkid\"      5   \n",
       "723    724  B000G6MBX2                         HM      2   \n",
       "357    358  B001SB099M          Thomas A. Johnson      4   \n",
       "\n",
       "                                                   Text Sentiment  \\\n",
       "287   fantast product wish readili avail store tast ...  Positive   \n",
       "1895  purchas hope healthi altern chip well theyr fa...   Neutral   \n",
       "175   one best lemon juic tri recur custom due high ...  Positive   \n",
       "723   like potato chip hot sweet overwhelm tast garl...  Negative   \n",
       "357   great stuff depend especi million brand choos ...  Positive   \n",
       "\n",
       "     knn_predicted  knn_accuracy  knn_precision  knn_recall    knn_f1  \n",
       "287       Positive      0.568581       0.665322     0.56582  0.552583  \n",
       "1895      Negative      0.568581       0.665322     0.56582  0.552583  \n",
       "175       Positive      0.568581       0.665322     0.56582  0.552583  \n",
       "723       Negative      0.568581       0.665322     0.56582  0.552583  \n",
       "357       Positive      0.568581       0.665322     0.56582  0.552583  "
      ]
     },
     "execution_count": 111,
     "metadata": {},
     "output_type": "execute_result"
    }
   ],
   "source": [
    "df_train_knn = knn_sentiment_analysis(df_train, cv.transform(df_train.Text), knn_model)\n",
    "\n",
    "print(\"\\nQuantity of positive and negative values in the dataset:\")\n",
    "print(df_train.Sentiment.value_counts())\n",
    "\n",
    "print(\"\\nQuantity of positive and negative values found by the model:\")\n",
    "print(df_train_knn.knn_predicted.value_counts())\n",
    "\n",
    "df_train_knn.head()"
   ]
  },
  {
   "cell_type": "markdown",
   "metadata": {},
   "source": [
    "- Validation model"
   ]
  },
  {
   "cell_type": "code",
   "execution_count": 112,
   "metadata": {},
   "outputs": [
    {
     "name": "stdout",
     "output_type": "stream",
     "text": [
      "\n",
      "Quantity of positive and negative values in the dataset:\n",
      "Negative    37\n",
      "Neutral     32\n",
      "Positive    26\n",
      "Name: Sentiment, dtype: int64\n",
      "\n",
      "Quantity of positive and negative values found by the model:\n",
      "Negative    64\n",
      "Positive    17\n",
      "Neutral     14\n",
      "Name: knn_predicted, dtype: int64\n"
     ]
    },
    {
     "data": {
      "text/html": [
       "<div>\n",
       "<style scoped>\n",
       "    .dataframe tbody tr th:only-of-type {\n",
       "        vertical-align: middle;\n",
       "    }\n",
       "\n",
       "    .dataframe tbody tr th {\n",
       "        vertical-align: top;\n",
       "    }\n",
       "\n",
       "    .dataframe thead th {\n",
       "        text-align: right;\n",
       "    }\n",
       "</style>\n",
       "<table border=\"1\" class=\"dataframe\">\n",
       "  <thead>\n",
       "    <tr style=\"text-align: right;\">\n",
       "      <th></th>\n",
       "      <th>Id</th>\n",
       "      <th>ProductId</th>\n",
       "      <th>ProfileName</th>\n",
       "      <th>Score</th>\n",
       "      <th>Text</th>\n",
       "      <th>Sentiment</th>\n",
       "      <th>knn_predicted</th>\n",
       "      <th>knn_accuracy</th>\n",
       "      <th>knn_precision</th>\n",
       "      <th>knn_recall</th>\n",
       "      <th>knn_f1</th>\n",
       "    </tr>\n",
       "  </thead>\n",
       "  <tbody>\n",
       "    <tr>\n",
       "      <th>715</th>\n",
       "      <td>716</td>\n",
       "      <td>B000G6MBX2</td>\n",
       "      <td>J</td>\n",
       "      <td>2</td>\n",
       "      <td>guess there tell tickl palat im huge tabasco f...</td>\n",
       "      <td>Negative</td>\n",
       "      <td>Negative</td>\n",
       "      <td>0.431579</td>\n",
       "      <td>0.454744</td>\n",
       "      <td>0.412119</td>\n",
       "      <td>0.398109</td>\n",
       "    </tr>\n",
       "    <tr>\n",
       "      <th>1917</th>\n",
       "      <td>1918</td>\n",
       "      <td>B0016PKA1C</td>\n",
       "      <td>Barbara J. Conine</td>\n",
       "      <td>1</td>\n",
       "      <td>despit read review other hard open confid knew...</td>\n",
       "      <td>Negative</td>\n",
       "      <td>Negative</td>\n",
       "      <td>0.431579</td>\n",
       "      <td>0.454744</td>\n",
       "      <td>0.412119</td>\n",
       "      <td>0.398109</td>\n",
       "    </tr>\n",
       "    <tr>\n",
       "      <th>3151</th>\n",
       "      <td>3152</td>\n",
       "      <td>B000FDKQCY</td>\n",
       "      <td>Leo G. McNeilly \"Leo G. McNeilly\"</td>\n",
       "      <td>3</td>\n",
       "      <td>bit disappoint flavor want expect</td>\n",
       "      <td>Neutral</td>\n",
       "      <td>Negative</td>\n",
       "      <td>0.431579</td>\n",
       "      <td>0.454744</td>\n",
       "      <td>0.412119</td>\n",
       "      <td>0.398109</td>\n",
       "    </tr>\n",
       "    <tr>\n",
       "      <th>311</th>\n",
       "      <td>312</td>\n",
       "      <td>B003YDP5PA</td>\n",
       "      <td>DF \"Dinky\"</td>\n",
       "      <td>1</td>\n",
       "      <td>packag came label torn cook instruct know norm...</td>\n",
       "      <td>Negative</td>\n",
       "      <td>Negative</td>\n",
       "      <td>0.431579</td>\n",
       "      <td>0.454744</td>\n",
       "      <td>0.412119</td>\n",
       "      <td>0.398109</td>\n",
       "    </tr>\n",
       "    <tr>\n",
       "      <th>2795</th>\n",
       "      <td>2796</td>\n",
       "      <td>B000J2DQ46</td>\n",
       "      <td>jwyres</td>\n",
       "      <td>3</td>\n",
       "      <td>finish first bowl clam chowder disappoint find...</td>\n",
       "      <td>Neutral</td>\n",
       "      <td>Negative</td>\n",
       "      <td>0.431579</td>\n",
       "      <td>0.454744</td>\n",
       "      <td>0.412119</td>\n",
       "      <td>0.398109</td>\n",
       "    </tr>\n",
       "  </tbody>\n",
       "</table>\n",
       "</div>"
      ],
      "text/plain": [
       "        Id   ProductId                        ProfileName  Score  \\\n",
       "715    716  B000G6MBX2                                  J      2   \n",
       "1917  1918  B0016PKA1C                  Barbara J. Conine      1   \n",
       "3151  3152  B000FDKQCY  Leo G. McNeilly \"Leo G. McNeilly\"      3   \n",
       "311    312  B003YDP5PA                         DF \"Dinky\"      1   \n",
       "2795  2796  B000J2DQ46                             jwyres      3   \n",
       "\n",
       "                                                   Text Sentiment  \\\n",
       "715   guess there tell tickl palat im huge tabasco f...  Negative   \n",
       "1917  despit read review other hard open confid knew...  Negative   \n",
       "3151                  bit disappoint flavor want expect   Neutral   \n",
       "311   packag came label torn cook instruct know norm...  Negative   \n",
       "2795  finish first bowl clam chowder disappoint find...   Neutral   \n",
       "\n",
       "     knn_predicted  knn_accuracy  knn_precision  knn_recall    knn_f1  \n",
       "715       Negative      0.431579       0.454744    0.412119  0.398109  \n",
       "1917      Negative      0.431579       0.454744    0.412119  0.398109  \n",
       "3151      Negative      0.431579       0.454744    0.412119  0.398109  \n",
       "311       Negative      0.431579       0.454744    0.412119  0.398109  \n",
       "2795      Negative      0.431579       0.454744    0.412119  0.398109  "
      ]
     },
     "execution_count": 112,
     "metadata": {},
     "output_type": "execute_result"
    }
   ],
   "source": [
    "df_validation_knn = knn_sentiment_analysis(df_validation, cv.transform(df_validation.Text), knn_model)\n",
    "\n",
    "print(\"\\nQuantity of positive and negative values in the dataset:\")\n",
    "print(df_validation.Sentiment.value_counts())\n",
    "\n",
    "print(\"\\nQuantity of positive and negative values found by the model:\")\n",
    "print(df_validation_knn.knn_predicted.value_counts())\n",
    "\n",
    "df_validation_knn.head()"
   ]
  },
  {
   "cell_type": "markdown",
   "metadata": {},
   "source": [
    "- Testing model"
   ]
  },
  {
   "cell_type": "code",
   "execution_count": 113,
   "metadata": {},
   "outputs": [
    {
     "name": "stdout",
     "output_type": "stream",
     "text": [
      "\n",
      "Quantity of positive and negative values in the dataset:\n",
      "Neutral     84\n",
      "Positive    83\n",
      "Negative    70\n",
      "Name: Sentiment, dtype: int64\n",
      "\n",
      "Quantity of positive and negative values found by the model:\n",
      "Negative    175\n",
      "Positive     39\n",
      "Neutral      23\n",
      "Name: knn_predicted, dtype: int64\n"
     ]
    },
    {
     "data": {
      "text/html": [
       "<div>\n",
       "<style scoped>\n",
       "    .dataframe tbody tr th:only-of-type {\n",
       "        vertical-align: middle;\n",
       "    }\n",
       "\n",
       "    .dataframe tbody tr th {\n",
       "        vertical-align: top;\n",
       "    }\n",
       "\n",
       "    .dataframe thead th {\n",
       "        text-align: right;\n",
       "    }\n",
       "</style>\n",
       "<table border=\"1\" class=\"dataframe\">\n",
       "  <thead>\n",
       "    <tr style=\"text-align: right;\">\n",
       "      <th></th>\n",
       "      <th>Id</th>\n",
       "      <th>ProductId</th>\n",
       "      <th>ProfileName</th>\n",
       "      <th>Score</th>\n",
       "      <th>Text</th>\n",
       "      <th>Sentiment</th>\n",
       "      <th>knn_predicted</th>\n",
       "      <th>knn_accuracy</th>\n",
       "      <th>knn_precision</th>\n",
       "      <th>knn_recall</th>\n",
       "      <th>knn_f1</th>\n",
       "    </tr>\n",
       "  </thead>\n",
       "  <tbody>\n",
       "    <tr>\n",
       "      <th>319</th>\n",
       "      <td>320</td>\n",
       "      <td>B001FB69YY</td>\n",
       "      <td>dewalt66</td>\n",
       "      <td>5</td>\n",
       "      <td>use frequent like asian dish least week love p...</td>\n",
       "      <td>Positive</td>\n",
       "      <td>Negative</td>\n",
       "      <td>0.409283</td>\n",
       "      <td>0.488589</td>\n",
       "      <td>0.435227</td>\n",
       "      <td>0.369157</td>\n",
       "    </tr>\n",
       "    <tr>\n",
       "      <th>2482</th>\n",
       "      <td>2483</td>\n",
       "      <td>B002JX7GVM</td>\n",
       "      <td>Michael D. Briggs \"Dark_Psion\"</td>\n",
       "      <td>2</td>\n",
       "      <td>receiv singl 85 contain one coconut water spla...</td>\n",
       "      <td>Negative</td>\n",
       "      <td>Negative</td>\n",
       "      <td>0.409283</td>\n",
       "      <td>0.488589</td>\n",
       "      <td>0.435227</td>\n",
       "      <td>0.369157</td>\n",
       "    </tr>\n",
       "    <tr>\n",
       "      <th>4962</th>\n",
       "      <td>4963</td>\n",
       "      <td>B001DW2RGO</td>\n",
       "      <td>Steele</td>\n",
       "      <td>3</td>\n",
       "      <td>six hour power help creat energet alert state ...</td>\n",
       "      <td>Neutral</td>\n",
       "      <td>Negative</td>\n",
       "      <td>0.409283</td>\n",
       "      <td>0.488589</td>\n",
       "      <td>0.435227</td>\n",
       "      <td>0.369157</td>\n",
       "    </tr>\n",
       "    <tr>\n",
       "      <th>86</th>\n",
       "      <td>87</td>\n",
       "      <td>B0019CW0HE</td>\n",
       "      <td>Ash52</td>\n",
       "      <td>5</td>\n",
       "      <td>dog ton allergi environment food prescript dog...</td>\n",
       "      <td>Positive</td>\n",
       "      <td>Positive</td>\n",
       "      <td>0.409283</td>\n",
       "      <td>0.488589</td>\n",
       "      <td>0.435227</td>\n",
       "      <td>0.369157</td>\n",
       "    </tr>\n",
       "    <tr>\n",
       "      <th>2632</th>\n",
       "      <td>2633</td>\n",
       "      <td>B0016FY6H6</td>\n",
       "      <td>skyebluepink</td>\n",
       "      <td>3</td>\n",
       "      <td>look altern green white ice tea powder realiz ...</td>\n",
       "      <td>Neutral</td>\n",
       "      <td>Negative</td>\n",
       "      <td>0.409283</td>\n",
       "      <td>0.488589</td>\n",
       "      <td>0.435227</td>\n",
       "      <td>0.369157</td>\n",
       "    </tr>\n",
       "  </tbody>\n",
       "</table>\n",
       "</div>"
      ],
      "text/plain": [
       "        Id   ProductId                     ProfileName  Score  \\\n",
       "319    320  B001FB69YY                        dewalt66      5   \n",
       "2482  2483  B002JX7GVM  Michael D. Briggs \"Dark_Psion\"      2   \n",
       "4962  4963  B001DW2RGO                          Steele      3   \n",
       "86      87  B0019CW0HE                           Ash52      5   \n",
       "2632  2633  B0016FY6H6                    skyebluepink      3   \n",
       "\n",
       "                                                   Text Sentiment  \\\n",
       "319   use frequent like asian dish least week love p...  Positive   \n",
       "2482  receiv singl 85 contain one coconut water spla...  Negative   \n",
       "4962  six hour power help creat energet alert state ...   Neutral   \n",
       "86    dog ton allergi environment food prescript dog...  Positive   \n",
       "2632  look altern green white ice tea powder realiz ...   Neutral   \n",
       "\n",
       "     knn_predicted  knn_accuracy  knn_precision  knn_recall    knn_f1  \n",
       "319       Negative      0.409283       0.488589    0.435227  0.369157  \n",
       "2482      Negative      0.409283       0.488589    0.435227  0.369157  \n",
       "4962      Negative      0.409283       0.488589    0.435227  0.369157  \n",
       "86        Positive      0.409283       0.488589    0.435227  0.369157  \n",
       "2632      Negative      0.409283       0.488589    0.435227  0.369157  "
      ]
     },
     "execution_count": 113,
     "metadata": {},
     "output_type": "execute_result"
    }
   ],
   "source": [
    "df_test_knn = knn_sentiment_analysis(df_test, cv.transform(df_test.Text), knn_model)\n",
    "\n",
    "print(\"\\nQuantity of positive and negative values in the dataset:\")\n",
    "print(df_test.Sentiment.value_counts())\n",
    "\n",
    "print(\"\\nQuantity of positive and negative values found by the model:\")\n",
    "print(df_test_knn.knn_predicted.value_counts())\n",
    "\n",
    "df_test_knn.head()"
   ]
  },
  {
   "cell_type": "markdown",
   "metadata": {},
   "source": [
    "#### Vader model"
   ]
  },
  {
   "cell_type": "markdown",
   "metadata": {},
   "source": [
    "Valence Aware Dictionary and sEntiment Reasoner (VADER) is an open source Python library built for use in sentiment analysis tasks.\n",
    "\n",
    "Vader works in a very simple way: it has a collection of words, where each word already has a note (or feeling) assigned, and when passed a document (phrase) it returns the following values ​​in percentage:\n",
    "\n",
    "        pos: how positive is that sentence/document;\n",
    "\n",
    "        neu: how neutral is the sentence/document;\n",
    "\n",
    "        neg: how much is negative;\n",
    "\n",
    "compound: is the metric used to indicate the final conclusion regarding the sentence as a whole. It is calculated by adding the valence scores of each word in the lexicon, which generates a number between -1 (very negative) and +1 (very positive).\n",
    "\n",
    "        If compound >= 0.05 -> Positive\n",
    "\n",
    "        If compound <= -0.05 -> Negative\n",
    "\n",
    "        If compounding between -0.04 and 0.04 -> Neutral\n",
    "\n",
    "The compound is the most important metric when you just want to know if that sentence is positive or negative, because its value can be converted into those respective categories and that's exactly what we're going to learn to do here!"
   ]
  },
  {
   "cell_type": "code",
   "execution_count": 114,
   "metadata": {},
   "outputs": [
    {
     "name": "stderr",
     "output_type": "stream",
     "text": [
      "[nltk_data] Downloading package vader_lexicon to\n",
      "[nltk_data]     C:\\Users\\Andre_Rodrigues\\AppData\\Roaming\\nltk_data...\n",
      "[nltk_data]   Package vader_lexicon is already up-to-date!\n"
     ]
    }
   ],
   "source": [
    "nltk.download('vader_lexicon')\n",
    "\n",
    "def vader_sentiment_analysis(df):\n",
    "    df_copy = df.copy()\n",
    "\n",
    "    vader = SentimentIntensityAnalyzer()\n",
    "    df_copy['vader_predicted'] = df_copy.Text.apply(lambda x: vader.polarity_scores(x)['compound'])\n",
    "\n",
    "    df_copy['vader_predicted'] = df_copy.vader_predicted.apply(lambda x: 'Positive' if x >= 0.05 else ('Negative' if x <= -0.05 else 'Neutral'))\n",
    "\n",
    "    df_copy['vader_accuracy'] = accuracy_score(df_copy.Sentiment, df_copy.vader_predicted)\n",
    "    df_copy['vader_precision'] = precision_score(df_copy.Sentiment, df_copy.vader_predicted, average='macro')\n",
    "    df_copy['vader_recall'] = recall_score(df_copy.Sentiment, df_copy.vader_predicted, average='macro')\n",
    "    df_copy['vader_f1'] = f1_score(df_copy.Sentiment, df_copy.vader_predicted, average='macro')\n",
    "\n",
    "    return df_copy\n",
    "    "
   ]
  },
  {
   "cell_type": "markdown",
   "metadata": {},
   "source": [
    "- Training model"
   ]
  },
  {
   "cell_type": "code",
   "execution_count": 115,
   "metadata": {},
   "outputs": [
    {
     "name": "stdout",
     "output_type": "stream",
     "text": [
      "\n",
      "Quantity of positive and negative values in the dataset:\n",
      "Negative    288\n",
      "Positive    286\n",
      "Neutral     279\n",
      "Name: Sentiment, dtype: int64\n",
      "\n",
      "Quantity of positive and negative values found by the model:\n",
      "Positive    662\n",
      "Negative    127\n",
      "Neutral      64\n",
      "Name: vader_predicted, dtype: int64\n"
     ]
    },
    {
     "data": {
      "text/html": [
       "<div>\n",
       "<style scoped>\n",
       "    .dataframe tbody tr th:only-of-type {\n",
       "        vertical-align: middle;\n",
       "    }\n",
       "\n",
       "    .dataframe tbody tr th {\n",
       "        vertical-align: top;\n",
       "    }\n",
       "\n",
       "    .dataframe thead th {\n",
       "        text-align: right;\n",
       "    }\n",
       "</style>\n",
       "<table border=\"1\" class=\"dataframe\">\n",
       "  <thead>\n",
       "    <tr style=\"text-align: right;\">\n",
       "      <th></th>\n",
       "      <th>Id</th>\n",
       "      <th>ProductId</th>\n",
       "      <th>ProfileName</th>\n",
       "      <th>Score</th>\n",
       "      <th>Text</th>\n",
       "      <th>Sentiment</th>\n",
       "      <th>vader_predicted</th>\n",
       "      <th>vader_accuracy</th>\n",
       "      <th>vader_precision</th>\n",
       "      <th>vader_recall</th>\n",
       "      <th>vader_f1</th>\n",
       "    </tr>\n",
       "  </thead>\n",
       "  <tbody>\n",
       "    <tr>\n",
       "      <th>287</th>\n",
       "      <td>288</td>\n",
       "      <td>B001UJEN6C</td>\n",
       "      <td>Joseph Kagan</td>\n",
       "      <td>5</td>\n",
       "      <td>fantast product wish readili avail store tast ...</td>\n",
       "      <td>Positive</td>\n",
       "      <td>Positive</td>\n",
       "      <td>0.410317</td>\n",
       "      <td>0.426832</td>\n",
       "      <td>0.407866</td>\n",
       "      <td>0.338342</td>\n",
       "    </tr>\n",
       "    <tr>\n",
       "      <th>1895</th>\n",
       "      <td>1896</td>\n",
       "      <td>B001RVFDOO</td>\n",
       "      <td>Sandy P \"saprater\"</td>\n",
       "      <td>3</td>\n",
       "      <td>purchas hope healthi altern chip well theyr fa...</td>\n",
       "      <td>Neutral</td>\n",
       "      <td>Positive</td>\n",
       "      <td>0.410317</td>\n",
       "      <td>0.426832</td>\n",
       "      <td>0.407866</td>\n",
       "      <td>0.338342</td>\n",
       "    </tr>\n",
       "    <tr>\n",
       "      <th>175</th>\n",
       "      <td>176</td>\n",
       "      <td>B0025VRCJY</td>\n",
       "      <td>Dario Quinonez \"aprilkid\"</td>\n",
       "      <td>5</td>\n",
       "      <td>one best lemon juic tri recur custom due high ...</td>\n",
       "      <td>Positive</td>\n",
       "      <td>Positive</td>\n",
       "      <td>0.410317</td>\n",
       "      <td>0.426832</td>\n",
       "      <td>0.407866</td>\n",
       "      <td>0.338342</td>\n",
       "    </tr>\n",
       "    <tr>\n",
       "      <th>723</th>\n",
       "      <td>724</td>\n",
       "      <td>B000G6MBX2</td>\n",
       "      <td>HM</td>\n",
       "      <td>2</td>\n",
       "      <td>like potato chip hot sweet overwhelm tast garl...</td>\n",
       "      <td>Negative</td>\n",
       "      <td>Positive</td>\n",
       "      <td>0.410317</td>\n",
       "      <td>0.426832</td>\n",
       "      <td>0.407866</td>\n",
       "      <td>0.338342</td>\n",
       "    </tr>\n",
       "    <tr>\n",
       "      <th>357</th>\n",
       "      <td>358</td>\n",
       "      <td>B001SB099M</td>\n",
       "      <td>Thomas A. Johnson</td>\n",
       "      <td>4</td>\n",
       "      <td>great stuff depend especi million brand choos ...</td>\n",
       "      <td>Positive</td>\n",
       "      <td>Positive</td>\n",
       "      <td>0.410317</td>\n",
       "      <td>0.426832</td>\n",
       "      <td>0.407866</td>\n",
       "      <td>0.338342</td>\n",
       "    </tr>\n",
       "  </tbody>\n",
       "</table>\n",
       "</div>"
      ],
      "text/plain": [
       "        Id   ProductId                ProfileName  Score  \\\n",
       "287    288  B001UJEN6C               Joseph Kagan      5   \n",
       "1895  1896  B001RVFDOO         Sandy P \"saprater\"      3   \n",
       "175    176  B0025VRCJY  Dario Quinonez \"aprilkid\"      5   \n",
       "723    724  B000G6MBX2                         HM      2   \n",
       "357    358  B001SB099M          Thomas A. Johnson      4   \n",
       "\n",
       "                                                   Text Sentiment  \\\n",
       "287   fantast product wish readili avail store tast ...  Positive   \n",
       "1895  purchas hope healthi altern chip well theyr fa...   Neutral   \n",
       "175   one best lemon juic tri recur custom due high ...  Positive   \n",
       "723   like potato chip hot sweet overwhelm tast garl...  Negative   \n",
       "357   great stuff depend especi million brand choos ...  Positive   \n",
       "\n",
       "     vader_predicted  vader_accuracy  vader_precision  vader_recall  vader_f1  \n",
       "287         Positive        0.410317         0.426832      0.407866  0.338342  \n",
       "1895        Positive        0.410317         0.426832      0.407866  0.338342  \n",
       "175         Positive        0.410317         0.426832      0.407866  0.338342  \n",
       "723         Positive        0.410317         0.426832      0.407866  0.338342  \n",
       "357         Positive        0.410317         0.426832      0.407866  0.338342  "
      ]
     },
     "execution_count": 115,
     "metadata": {},
     "output_type": "execute_result"
    }
   ],
   "source": [
    "df_train_vader = vader_sentiment_analysis(df_train)\n",
    "\n",
    "print(\"\\nQuantity of positive and negative values in the dataset:\")\n",
    "print(df_train.Sentiment.value_counts())\n",
    "\n",
    "print(\"\\nQuantity of positive and negative values found by the model:\")\n",
    "print(df_train_vader.vader_predicted.value_counts())\n",
    "\n",
    "df_train_vader.head()"
   ]
  },
  {
   "cell_type": "markdown",
   "metadata": {},
   "source": [
    "- Validation model"
   ]
  },
  {
   "cell_type": "code",
   "execution_count": 116,
   "metadata": {},
   "outputs": [
    {
     "name": "stdout",
     "output_type": "stream",
     "text": [
      "\n",
      "Quantity of positive and negative values in the dataset:\n",
      "Negative    37\n",
      "Neutral     32\n",
      "Positive    26\n",
      "Name: Sentiment, dtype: int64\n",
      "\n",
      "Quantity of positive and negative values found by the model:\n",
      "Positive    73\n",
      "Negative    17\n",
      "Neutral      5\n",
      "Name: vader_predicted, dtype: int64\n"
     ]
    },
    {
     "data": {
      "text/html": [
       "<div>\n",
       "<style scoped>\n",
       "    .dataframe tbody tr th:only-of-type {\n",
       "        vertical-align: middle;\n",
       "    }\n",
       "\n",
       "    .dataframe tbody tr th {\n",
       "        vertical-align: top;\n",
       "    }\n",
       "\n",
       "    .dataframe thead th {\n",
       "        text-align: right;\n",
       "    }\n",
       "</style>\n",
       "<table border=\"1\" class=\"dataframe\">\n",
       "  <thead>\n",
       "    <tr style=\"text-align: right;\">\n",
       "      <th></th>\n",
       "      <th>Id</th>\n",
       "      <th>ProductId</th>\n",
       "      <th>ProfileName</th>\n",
       "      <th>Score</th>\n",
       "      <th>Text</th>\n",
       "      <th>Sentiment</th>\n",
       "      <th>vader_predicted</th>\n",
       "      <th>vader_accuracy</th>\n",
       "      <th>vader_precision</th>\n",
       "      <th>vader_recall</th>\n",
       "      <th>vader_f1</th>\n",
       "    </tr>\n",
       "  </thead>\n",
       "  <tbody>\n",
       "    <tr>\n",
       "      <th>715</th>\n",
       "      <td>716</td>\n",
       "      <td>B000G6MBX2</td>\n",
       "      <td>J</td>\n",
       "      <td>2</td>\n",
       "      <td>guess there tell tickl palat im huge tabasco f...</td>\n",
       "      <td>Negative</td>\n",
       "      <td>Positive</td>\n",
       "      <td>0.421053</td>\n",
       "      <td>0.502391</td>\n",
       "      <td>0.458463</td>\n",
       "      <td>0.36488</td>\n",
       "    </tr>\n",
       "    <tr>\n",
       "      <th>1917</th>\n",
       "      <td>1918</td>\n",
       "      <td>B0016PKA1C</td>\n",
       "      <td>Barbara J. Conine</td>\n",
       "      <td>1</td>\n",
       "      <td>despit read review other hard open confid knew...</td>\n",
       "      <td>Negative</td>\n",
       "      <td>Negative</td>\n",
       "      <td>0.421053</td>\n",
       "      <td>0.502391</td>\n",
       "      <td>0.458463</td>\n",
       "      <td>0.36488</td>\n",
       "    </tr>\n",
       "    <tr>\n",
       "      <th>3151</th>\n",
       "      <td>3152</td>\n",
       "      <td>B000FDKQCY</td>\n",
       "      <td>Leo G. McNeilly \"Leo G. McNeilly\"</td>\n",
       "      <td>3</td>\n",
       "      <td>bit disappoint flavor want expect</td>\n",
       "      <td>Neutral</td>\n",
       "      <td>Negative</td>\n",
       "      <td>0.421053</td>\n",
       "      <td>0.502391</td>\n",
       "      <td>0.458463</td>\n",
       "      <td>0.36488</td>\n",
       "    </tr>\n",
       "    <tr>\n",
       "      <th>311</th>\n",
       "      <td>312</td>\n",
       "      <td>B003YDP5PA</td>\n",
       "      <td>DF \"Dinky\"</td>\n",
       "      <td>1</td>\n",
       "      <td>packag came label torn cook instruct know norm...</td>\n",
       "      <td>Negative</td>\n",
       "      <td>Negative</td>\n",
       "      <td>0.421053</td>\n",
       "      <td>0.502391</td>\n",
       "      <td>0.458463</td>\n",
       "      <td>0.36488</td>\n",
       "    </tr>\n",
       "    <tr>\n",
       "      <th>2795</th>\n",
       "      <td>2796</td>\n",
       "      <td>B000J2DQ46</td>\n",
       "      <td>jwyres</td>\n",
       "      <td>3</td>\n",
       "      <td>finish first bowl clam chowder disappoint find...</td>\n",
       "      <td>Neutral</td>\n",
       "      <td>Positive</td>\n",
       "      <td>0.421053</td>\n",
       "      <td>0.502391</td>\n",
       "      <td>0.458463</td>\n",
       "      <td>0.36488</td>\n",
       "    </tr>\n",
       "  </tbody>\n",
       "</table>\n",
       "</div>"
      ],
      "text/plain": [
       "        Id   ProductId                        ProfileName  Score  \\\n",
       "715    716  B000G6MBX2                                  J      2   \n",
       "1917  1918  B0016PKA1C                  Barbara J. Conine      1   \n",
       "3151  3152  B000FDKQCY  Leo G. McNeilly \"Leo G. McNeilly\"      3   \n",
       "311    312  B003YDP5PA                         DF \"Dinky\"      1   \n",
       "2795  2796  B000J2DQ46                             jwyres      3   \n",
       "\n",
       "                                                   Text Sentiment  \\\n",
       "715   guess there tell tickl palat im huge tabasco f...  Negative   \n",
       "1917  despit read review other hard open confid knew...  Negative   \n",
       "3151                  bit disappoint flavor want expect   Neutral   \n",
       "311   packag came label torn cook instruct know norm...  Negative   \n",
       "2795  finish first bowl clam chowder disappoint find...   Neutral   \n",
       "\n",
       "     vader_predicted  vader_accuracy  vader_precision  vader_recall  vader_f1  \n",
       "715         Positive        0.421053         0.502391      0.458463   0.36488  \n",
       "1917        Negative        0.421053         0.502391      0.458463   0.36488  \n",
       "3151        Negative        0.421053         0.502391      0.458463   0.36488  \n",
       "311         Negative        0.421053         0.502391      0.458463   0.36488  \n",
       "2795        Positive        0.421053         0.502391      0.458463   0.36488  "
      ]
     },
     "execution_count": 116,
     "metadata": {},
     "output_type": "execute_result"
    }
   ],
   "source": [
    "df_validation_vader = vader_sentiment_analysis(df_validation)\n",
    "\n",
    "print(\"\\nQuantity of positive and negative values in the dataset:\")\n",
    "print(df_validation.Sentiment.value_counts())\n",
    "\n",
    "print(\"\\nQuantity of positive and negative values found by the model:\")\n",
    "print(df_validation_vader.vader_predicted.value_counts())\n",
    "\n",
    "df_validation_vader.head()"
   ]
  },
  {
   "cell_type": "markdown",
   "metadata": {},
   "source": [
    "- Testing model"
   ]
  },
  {
   "cell_type": "code",
   "execution_count": 117,
   "metadata": {},
   "outputs": [
    {
     "name": "stdout",
     "output_type": "stream",
     "text": [
      "\n",
      "Quantity of positive and negative values in the dataset:\n",
      "Neutral     84\n",
      "Positive    83\n",
      "Negative    70\n",
      "Name: Sentiment, dtype: int64\n",
      "\n",
      "Quantity of positive and negative values found by the model:\n",
      "Positive    185\n",
      "Negative     37\n",
      "Neutral      15\n",
      "Name: vader_predicted, dtype: int64\n"
     ]
    },
    {
     "data": {
      "text/html": [
       "<div>\n",
       "<style scoped>\n",
       "    .dataframe tbody tr th:only-of-type {\n",
       "        vertical-align: middle;\n",
       "    }\n",
       "\n",
       "    .dataframe tbody tr th {\n",
       "        vertical-align: top;\n",
       "    }\n",
       "\n",
       "    .dataframe thead th {\n",
       "        text-align: right;\n",
       "    }\n",
       "</style>\n",
       "<table border=\"1\" class=\"dataframe\">\n",
       "  <thead>\n",
       "    <tr style=\"text-align: right;\">\n",
       "      <th></th>\n",
       "      <th>Id</th>\n",
       "      <th>ProductId</th>\n",
       "      <th>ProfileName</th>\n",
       "      <th>Score</th>\n",
       "      <th>Text</th>\n",
       "      <th>Sentiment</th>\n",
       "      <th>vader_predicted</th>\n",
       "      <th>vader_accuracy</th>\n",
       "      <th>vader_precision</th>\n",
       "      <th>vader_recall</th>\n",
       "      <th>vader_f1</th>\n",
       "    </tr>\n",
       "  </thead>\n",
       "  <tbody>\n",
       "    <tr>\n",
       "      <th>319</th>\n",
       "      <td>320</td>\n",
       "      <td>B001FB69YY</td>\n",
       "      <td>dewalt66</td>\n",
       "      <td>5</td>\n",
       "      <td>use frequent like asian dish least week love p...</td>\n",
       "      <td>Positive</td>\n",
       "      <td>Positive</td>\n",
       "      <td>0.447257</td>\n",
       "      <td>0.492492</td>\n",
       "      <td>0.441777</td>\n",
       "      <td>0.375752</td>\n",
       "    </tr>\n",
       "    <tr>\n",
       "      <th>2482</th>\n",
       "      <td>2483</td>\n",
       "      <td>B002JX7GVM</td>\n",
       "      <td>Michael D. Briggs \"Dark_Psion\"</td>\n",
       "      <td>2</td>\n",
       "      <td>receiv singl 85 contain one coconut water spla...</td>\n",
       "      <td>Negative</td>\n",
       "      <td>Positive</td>\n",
       "      <td>0.447257</td>\n",
       "      <td>0.492492</td>\n",
       "      <td>0.441777</td>\n",
       "      <td>0.375752</td>\n",
       "    </tr>\n",
       "    <tr>\n",
       "      <th>4962</th>\n",
       "      <td>4963</td>\n",
       "      <td>B001DW2RGO</td>\n",
       "      <td>Steele</td>\n",
       "      <td>3</td>\n",
       "      <td>six hour power help creat energet alert state ...</td>\n",
       "      <td>Neutral</td>\n",
       "      <td>Positive</td>\n",
       "      <td>0.447257</td>\n",
       "      <td>0.492492</td>\n",
       "      <td>0.441777</td>\n",
       "      <td>0.375752</td>\n",
       "    </tr>\n",
       "    <tr>\n",
       "      <th>86</th>\n",
       "      <td>87</td>\n",
       "      <td>B0019CW0HE</td>\n",
       "      <td>Ash52</td>\n",
       "      <td>5</td>\n",
       "      <td>dog ton allergi environment food prescript dog...</td>\n",
       "      <td>Positive</td>\n",
       "      <td>Positive</td>\n",
       "      <td>0.447257</td>\n",
       "      <td>0.492492</td>\n",
       "      <td>0.441777</td>\n",
       "      <td>0.375752</td>\n",
       "    </tr>\n",
       "    <tr>\n",
       "      <th>2632</th>\n",
       "      <td>2633</td>\n",
       "      <td>B0016FY6H6</td>\n",
       "      <td>skyebluepink</td>\n",
       "      <td>3</td>\n",
       "      <td>look altern green white ice tea powder realiz ...</td>\n",
       "      <td>Neutral</td>\n",
       "      <td>Positive</td>\n",
       "      <td>0.447257</td>\n",
       "      <td>0.492492</td>\n",
       "      <td>0.441777</td>\n",
       "      <td>0.375752</td>\n",
       "    </tr>\n",
       "  </tbody>\n",
       "</table>\n",
       "</div>"
      ],
      "text/plain": [
       "        Id   ProductId                     ProfileName  Score  \\\n",
       "319    320  B001FB69YY                        dewalt66      5   \n",
       "2482  2483  B002JX7GVM  Michael D. Briggs \"Dark_Psion\"      2   \n",
       "4962  4963  B001DW2RGO                          Steele      3   \n",
       "86      87  B0019CW0HE                           Ash52      5   \n",
       "2632  2633  B0016FY6H6                    skyebluepink      3   \n",
       "\n",
       "                                                   Text Sentiment  \\\n",
       "319   use frequent like asian dish least week love p...  Positive   \n",
       "2482  receiv singl 85 contain one coconut water spla...  Negative   \n",
       "4962  six hour power help creat energet alert state ...   Neutral   \n",
       "86    dog ton allergi environment food prescript dog...  Positive   \n",
       "2632  look altern green white ice tea powder realiz ...   Neutral   \n",
       "\n",
       "     vader_predicted  vader_accuracy  vader_precision  vader_recall  vader_f1  \n",
       "319         Positive        0.447257         0.492492      0.441777  0.375752  \n",
       "2482        Positive        0.447257         0.492492      0.441777  0.375752  \n",
       "4962        Positive        0.447257         0.492492      0.441777  0.375752  \n",
       "86          Positive        0.447257         0.492492      0.441777  0.375752  \n",
       "2632        Positive        0.447257         0.492492      0.441777  0.375752  "
      ]
     },
     "execution_count": 117,
     "metadata": {},
     "output_type": "execute_result"
    }
   ],
   "source": [
    "df_test_vader = vader_sentiment_analysis(df_test)\n",
    "\n",
    "print(\"\\nQuantity of positive and negative values in the dataset:\")\n",
    "print(df_test.Sentiment.value_counts())\n",
    "\n",
    "print(\"\\nQuantity of positive and negative values found by the model:\")\n",
    "print(df_test_vader.vader_predicted.value_counts())\n",
    "\n",
    "df_test_vader.head()"
   ]
  },
  {
   "cell_type": "markdown",
   "metadata": {},
   "source": [
    "#### Logistic Regression model"
   ]
  },
  {
   "cell_type": "markdown",
   "metadata": {},
   "source": [
    "It is a probabilistic prediction model that seeks to predict a binary value of 0 or 1, which is more malleable and can be used in complex classification cases. In the formula of this method, outliers are not considered, since they are only considered data close to a line that divides the data according to the specified attributes. Like the Perceptron algorithm, it is an algorithm that requires a lot of training and can only find a linear separator for the data if the data are linearly separable."
   ]
  },
  {
   "cell_type": "code",
   "execution_count": 118,
   "metadata": {},
   "outputs": [],
   "source": [
    "\n",
    "def logistic_regression_model(df_train, vectorizer_array, max_iter=1000):\n",
    "    lr = LogisticRegression(max_iter=max_iter)\n",
    "    lr.fit(vectorizer_array, df_train.Sentiment)\n",
    "\n",
    "    return lr\n",
    "\n",
    "def logistic_regression_sentiment_analysis(df, vectorizer_array, model):\n",
    "    df_copy = df.copy()\n",
    "\n",
    "    df_copy['lr_predicted'] = model.predict(vectorizer_array)\n",
    "    df_copy['lr_accuracy'] = accuracy_score(df_copy.Sentiment, df_copy.lr_predicted)\n",
    "    df_copy['lr_precision'] = precision_score(df_copy.Sentiment, df_copy.lr_predicted, average='macro')\n",
    "    df_copy['lr_recall'] = recall_score(df_copy.Sentiment, df_copy.lr_predicted, average='macro')\n",
    "    df_copy['lr_f1'] = f1_score(df_copy.Sentiment, df_copy.lr_predicted, average='macro')\n",
    "\n",
    "    return df_copy"
   ]
  },
  {
   "cell_type": "markdown",
   "metadata": {},
   "source": [
    "- Create model"
   ]
  },
  {
   "cell_type": "code",
   "execution_count": 119,
   "metadata": {},
   "outputs": [],
   "source": [
    "lr_model = logistic_regression_model(df_train, cv.fit_transform(df_train.Text))"
   ]
  },
  {
   "cell_type": "markdown",
   "metadata": {},
   "source": [
    "- Train model"
   ]
  },
  {
   "cell_type": "code",
   "execution_count": 120,
   "metadata": {},
   "outputs": [
    {
     "name": "stdout",
     "output_type": "stream",
     "text": [
      "\n",
      "Quantity of positive and negative values in the dataset:\n",
      "Negative    288\n",
      "Positive    286\n",
      "Neutral     279\n",
      "Name: Sentiment, dtype: int64\n",
      "\n",
      "Quantity of positive and negative values found by the model:\n",
      "Negative    288\n",
      "Positive    286\n",
      "Neutral     279\n",
      "Name: lr_predicted, dtype: int64\n"
     ]
    },
    {
     "data": {
      "text/html": [
       "<div>\n",
       "<style scoped>\n",
       "    .dataframe tbody tr th:only-of-type {\n",
       "        vertical-align: middle;\n",
       "    }\n",
       "\n",
       "    .dataframe tbody tr th {\n",
       "        vertical-align: top;\n",
       "    }\n",
       "\n",
       "    .dataframe thead th {\n",
       "        text-align: right;\n",
       "    }\n",
       "</style>\n",
       "<table border=\"1\" class=\"dataframe\">\n",
       "  <thead>\n",
       "    <tr style=\"text-align: right;\">\n",
       "      <th></th>\n",
       "      <th>Id</th>\n",
       "      <th>ProductId</th>\n",
       "      <th>ProfileName</th>\n",
       "      <th>Score</th>\n",
       "      <th>Text</th>\n",
       "      <th>Sentiment</th>\n",
       "      <th>lr_predicted</th>\n",
       "      <th>lr_accuracy</th>\n",
       "      <th>lr_precision</th>\n",
       "      <th>lr_recall</th>\n",
       "      <th>lr_f1</th>\n",
       "    </tr>\n",
       "  </thead>\n",
       "  <tbody>\n",
       "    <tr>\n",
       "      <th>287</th>\n",
       "      <td>288</td>\n",
       "      <td>B001UJEN6C</td>\n",
       "      <td>Joseph Kagan</td>\n",
       "      <td>5</td>\n",
       "      <td>fantast product wish readili avail store tast ...</td>\n",
       "      <td>Positive</td>\n",
       "      <td>Positive</td>\n",
       "      <td>1.0</td>\n",
       "      <td>1.0</td>\n",
       "      <td>1.0</td>\n",
       "      <td>1.0</td>\n",
       "    </tr>\n",
       "    <tr>\n",
       "      <th>1895</th>\n",
       "      <td>1896</td>\n",
       "      <td>B001RVFDOO</td>\n",
       "      <td>Sandy P \"saprater\"</td>\n",
       "      <td>3</td>\n",
       "      <td>purchas hope healthi altern chip well theyr fa...</td>\n",
       "      <td>Neutral</td>\n",
       "      <td>Neutral</td>\n",
       "      <td>1.0</td>\n",
       "      <td>1.0</td>\n",
       "      <td>1.0</td>\n",
       "      <td>1.0</td>\n",
       "    </tr>\n",
       "    <tr>\n",
       "      <th>175</th>\n",
       "      <td>176</td>\n",
       "      <td>B0025VRCJY</td>\n",
       "      <td>Dario Quinonez \"aprilkid\"</td>\n",
       "      <td>5</td>\n",
       "      <td>one best lemon juic tri recur custom due high ...</td>\n",
       "      <td>Positive</td>\n",
       "      <td>Positive</td>\n",
       "      <td>1.0</td>\n",
       "      <td>1.0</td>\n",
       "      <td>1.0</td>\n",
       "      <td>1.0</td>\n",
       "    </tr>\n",
       "    <tr>\n",
       "      <th>723</th>\n",
       "      <td>724</td>\n",
       "      <td>B000G6MBX2</td>\n",
       "      <td>HM</td>\n",
       "      <td>2</td>\n",
       "      <td>like potato chip hot sweet overwhelm tast garl...</td>\n",
       "      <td>Negative</td>\n",
       "      <td>Negative</td>\n",
       "      <td>1.0</td>\n",
       "      <td>1.0</td>\n",
       "      <td>1.0</td>\n",
       "      <td>1.0</td>\n",
       "    </tr>\n",
       "    <tr>\n",
       "      <th>357</th>\n",
       "      <td>358</td>\n",
       "      <td>B001SB099M</td>\n",
       "      <td>Thomas A. Johnson</td>\n",
       "      <td>4</td>\n",
       "      <td>great stuff depend especi million brand choos ...</td>\n",
       "      <td>Positive</td>\n",
       "      <td>Positive</td>\n",
       "      <td>1.0</td>\n",
       "      <td>1.0</td>\n",
       "      <td>1.0</td>\n",
       "      <td>1.0</td>\n",
       "    </tr>\n",
       "  </tbody>\n",
       "</table>\n",
       "</div>"
      ],
      "text/plain": [
       "        Id   ProductId                ProfileName  Score  \\\n",
       "287    288  B001UJEN6C               Joseph Kagan      5   \n",
       "1895  1896  B001RVFDOO         Sandy P \"saprater\"      3   \n",
       "175    176  B0025VRCJY  Dario Quinonez \"aprilkid\"      5   \n",
       "723    724  B000G6MBX2                         HM      2   \n",
       "357    358  B001SB099M          Thomas A. Johnson      4   \n",
       "\n",
       "                                                   Text Sentiment  \\\n",
       "287   fantast product wish readili avail store tast ...  Positive   \n",
       "1895  purchas hope healthi altern chip well theyr fa...   Neutral   \n",
       "175   one best lemon juic tri recur custom due high ...  Positive   \n",
       "723   like potato chip hot sweet overwhelm tast garl...  Negative   \n",
       "357   great stuff depend especi million brand choos ...  Positive   \n",
       "\n",
       "     lr_predicted  lr_accuracy  lr_precision  lr_recall  lr_f1  \n",
       "287      Positive          1.0           1.0        1.0    1.0  \n",
       "1895      Neutral          1.0           1.0        1.0    1.0  \n",
       "175      Positive          1.0           1.0        1.0    1.0  \n",
       "723      Negative          1.0           1.0        1.0    1.0  \n",
       "357      Positive          1.0           1.0        1.0    1.0  "
      ]
     },
     "execution_count": 120,
     "metadata": {},
     "output_type": "execute_result"
    }
   ],
   "source": [
    "df_train_logistic_regression = logistic_regression_sentiment_analysis(df_train, cv.transform(df_train.Text), lr_model)\n",
    "\n",
    "print(\"\\nQuantity of positive and negative values in the dataset:\")\n",
    "print(df_train.Sentiment.value_counts())\n",
    "\n",
    "print(\"\\nQuantity of positive and negative values found by the model:\")\n",
    "print(df_train_logistic_regression.lr_predicted.value_counts())\n",
    "\n",
    "df_train_logistic_regression.head()"
   ]
  },
  {
   "cell_type": "markdown",
   "metadata": {},
   "source": [
    "- Validation model"
   ]
  },
  {
   "cell_type": "code",
   "execution_count": 121,
   "metadata": {},
   "outputs": [
    {
     "name": "stdout",
     "output_type": "stream",
     "text": [
      "\n",
      "Quantity of positive and negative values in the dataset:\n",
      "Negative    37\n",
      "Neutral     32\n",
      "Positive    26\n",
      "Name: Sentiment, dtype: int64\n",
      "\n",
      "Quantity of positive and negative values found by the model:\n",
      "Negative    38\n",
      "Neutral     34\n",
      "Positive    23\n",
      "Name: lr_predicted, dtype: int64\n"
     ]
    },
    {
     "data": {
      "text/html": [
       "<div>\n",
       "<style scoped>\n",
       "    .dataframe tbody tr th:only-of-type {\n",
       "        vertical-align: middle;\n",
       "    }\n",
       "\n",
       "    .dataframe tbody tr th {\n",
       "        vertical-align: top;\n",
       "    }\n",
       "\n",
       "    .dataframe thead th {\n",
       "        text-align: right;\n",
       "    }\n",
       "</style>\n",
       "<table border=\"1\" class=\"dataframe\">\n",
       "  <thead>\n",
       "    <tr style=\"text-align: right;\">\n",
       "      <th></th>\n",
       "      <th>Id</th>\n",
       "      <th>ProductId</th>\n",
       "      <th>ProfileName</th>\n",
       "      <th>Score</th>\n",
       "      <th>Text</th>\n",
       "      <th>Sentiment</th>\n",
       "      <th>lr_predicted</th>\n",
       "      <th>lr_accuracy</th>\n",
       "      <th>lr_precision</th>\n",
       "      <th>lr_recall</th>\n",
       "      <th>lr_f1</th>\n",
       "    </tr>\n",
       "  </thead>\n",
       "  <tbody>\n",
       "    <tr>\n",
       "      <th>715</th>\n",
       "      <td>716</td>\n",
       "      <td>B000G6MBX2</td>\n",
       "      <td>J</td>\n",
       "      <td>2</td>\n",
       "      <td>guess there tell tickl palat im huge tabasco f...</td>\n",
       "      <td>Negative</td>\n",
       "      <td>Negative</td>\n",
       "      <td>0.694737</td>\n",
       "      <td>0.702562</td>\n",
       "      <td>0.691355</td>\n",
       "      <td>0.695807</td>\n",
       "    </tr>\n",
       "    <tr>\n",
       "      <th>1917</th>\n",
       "      <td>1918</td>\n",
       "      <td>B0016PKA1C</td>\n",
       "      <td>Barbara J. Conine</td>\n",
       "      <td>1</td>\n",
       "      <td>despit read review other hard open confid knew...</td>\n",
       "      <td>Negative</td>\n",
       "      <td>Negative</td>\n",
       "      <td>0.694737</td>\n",
       "      <td>0.702562</td>\n",
       "      <td>0.691355</td>\n",
       "      <td>0.695807</td>\n",
       "    </tr>\n",
       "    <tr>\n",
       "      <th>3151</th>\n",
       "      <td>3152</td>\n",
       "      <td>B000FDKQCY</td>\n",
       "      <td>Leo G. McNeilly \"Leo G. McNeilly\"</td>\n",
       "      <td>3</td>\n",
       "      <td>bit disappoint flavor want expect</td>\n",
       "      <td>Neutral</td>\n",
       "      <td>Negative</td>\n",
       "      <td>0.694737</td>\n",
       "      <td>0.702562</td>\n",
       "      <td>0.691355</td>\n",
       "      <td>0.695807</td>\n",
       "    </tr>\n",
       "    <tr>\n",
       "      <th>311</th>\n",
       "      <td>312</td>\n",
       "      <td>B003YDP5PA</td>\n",
       "      <td>DF \"Dinky\"</td>\n",
       "      <td>1</td>\n",
       "      <td>packag came label torn cook instruct know norm...</td>\n",
       "      <td>Negative</td>\n",
       "      <td>Negative</td>\n",
       "      <td>0.694737</td>\n",
       "      <td>0.702562</td>\n",
       "      <td>0.691355</td>\n",
       "      <td>0.695807</td>\n",
       "    </tr>\n",
       "    <tr>\n",
       "      <th>2795</th>\n",
       "      <td>2796</td>\n",
       "      <td>B000J2DQ46</td>\n",
       "      <td>jwyres</td>\n",
       "      <td>3</td>\n",
       "      <td>finish first bowl clam chowder disappoint find...</td>\n",
       "      <td>Neutral</td>\n",
       "      <td>Neutral</td>\n",
       "      <td>0.694737</td>\n",
       "      <td>0.702562</td>\n",
       "      <td>0.691355</td>\n",
       "      <td>0.695807</td>\n",
       "    </tr>\n",
       "  </tbody>\n",
       "</table>\n",
       "</div>"
      ],
      "text/plain": [
       "        Id   ProductId                        ProfileName  Score  \\\n",
       "715    716  B000G6MBX2                                  J      2   \n",
       "1917  1918  B0016PKA1C                  Barbara J. Conine      1   \n",
       "3151  3152  B000FDKQCY  Leo G. McNeilly \"Leo G. McNeilly\"      3   \n",
       "311    312  B003YDP5PA                         DF \"Dinky\"      1   \n",
       "2795  2796  B000J2DQ46                             jwyres      3   \n",
       "\n",
       "                                                   Text Sentiment  \\\n",
       "715   guess there tell tickl palat im huge tabasco f...  Negative   \n",
       "1917  despit read review other hard open confid knew...  Negative   \n",
       "3151                  bit disappoint flavor want expect   Neutral   \n",
       "311   packag came label torn cook instruct know norm...  Negative   \n",
       "2795  finish first bowl clam chowder disappoint find...   Neutral   \n",
       "\n",
       "     lr_predicted  lr_accuracy  lr_precision  lr_recall     lr_f1  \n",
       "715      Negative     0.694737      0.702562   0.691355  0.695807  \n",
       "1917     Negative     0.694737      0.702562   0.691355  0.695807  \n",
       "3151     Negative     0.694737      0.702562   0.691355  0.695807  \n",
       "311      Negative     0.694737      0.702562   0.691355  0.695807  \n",
       "2795      Neutral     0.694737      0.702562   0.691355  0.695807  "
      ]
     },
     "execution_count": 121,
     "metadata": {},
     "output_type": "execute_result"
    }
   ],
   "source": [
    "df_validation_logistic_regression = logistic_regression_sentiment_analysis(df_validation, cv.transform(df_validation.Text), lr_model)\n",
    "\n",
    "print(\"\\nQuantity of positive and negative values in the dataset:\")\n",
    "print(df_validation.Sentiment.value_counts())\n",
    "\n",
    "print(\"\\nQuantity of positive and negative values found by the model:\")\n",
    "print(df_validation_logistic_regression.lr_predicted.value_counts())\n",
    "\n",
    "df_validation_logistic_regression.head()"
   ]
  },
  {
   "cell_type": "markdown",
   "metadata": {},
   "source": [
    "- Testing model"
   ]
  },
  {
   "cell_type": "code",
   "execution_count": 122,
   "metadata": {},
   "outputs": [
    {
     "name": "stdout",
     "output_type": "stream",
     "text": [
      "\n",
      "Quantity of positive and negative values in the dataset:\n",
      "Neutral     84\n",
      "Positive    83\n",
      "Negative    70\n",
      "Name: Sentiment, dtype: int64\n",
      "\n",
      "Quantity of positive and negative values found by the model:\n",
      "Positive    83\n",
      "Negative    81\n",
      "Neutral     73\n",
      "Name: lr_predicted, dtype: int64\n"
     ]
    },
    {
     "data": {
      "text/html": [
       "<div>\n",
       "<style scoped>\n",
       "    .dataframe tbody tr th:only-of-type {\n",
       "        vertical-align: middle;\n",
       "    }\n",
       "\n",
       "    .dataframe tbody tr th {\n",
       "        vertical-align: top;\n",
       "    }\n",
       "\n",
       "    .dataframe thead th {\n",
       "        text-align: right;\n",
       "    }\n",
       "</style>\n",
       "<table border=\"1\" class=\"dataframe\">\n",
       "  <thead>\n",
       "    <tr style=\"text-align: right;\">\n",
       "      <th></th>\n",
       "      <th>Id</th>\n",
       "      <th>ProductId</th>\n",
       "      <th>ProfileName</th>\n",
       "      <th>Score</th>\n",
       "      <th>Text</th>\n",
       "      <th>Sentiment</th>\n",
       "      <th>lr_predicted</th>\n",
       "      <th>lr_accuracy</th>\n",
       "      <th>lr_precision</th>\n",
       "      <th>lr_recall</th>\n",
       "      <th>lr_f1</th>\n",
       "    </tr>\n",
       "  </thead>\n",
       "  <tbody>\n",
       "    <tr>\n",
       "      <th>319</th>\n",
       "      <td>320</td>\n",
       "      <td>B001FB69YY</td>\n",
       "      <td>dewalt66</td>\n",
       "      <td>5</td>\n",
       "      <td>use frequent like asian dish least week love p...</td>\n",
       "      <td>Positive</td>\n",
       "      <td>Positive</td>\n",
       "      <td>0.620253</td>\n",
       "      <td>0.617831</td>\n",
       "      <td>0.62117</td>\n",
       "      <td>0.617584</td>\n",
       "    </tr>\n",
       "    <tr>\n",
       "      <th>2482</th>\n",
       "      <td>2483</td>\n",
       "      <td>B002JX7GVM</td>\n",
       "      <td>Michael D. Briggs \"Dark_Psion\"</td>\n",
       "      <td>2</td>\n",
       "      <td>receiv singl 85 contain one coconut water spla...</td>\n",
       "      <td>Negative</td>\n",
       "      <td>Negative</td>\n",
       "      <td>0.620253</td>\n",
       "      <td>0.617831</td>\n",
       "      <td>0.62117</td>\n",
       "      <td>0.617584</td>\n",
       "    </tr>\n",
       "    <tr>\n",
       "      <th>4962</th>\n",
       "      <td>4963</td>\n",
       "      <td>B001DW2RGO</td>\n",
       "      <td>Steele</td>\n",
       "      <td>3</td>\n",
       "      <td>six hour power help creat energet alert state ...</td>\n",
       "      <td>Neutral</td>\n",
       "      <td>Positive</td>\n",
       "      <td>0.620253</td>\n",
       "      <td>0.617831</td>\n",
       "      <td>0.62117</td>\n",
       "      <td>0.617584</td>\n",
       "    </tr>\n",
       "    <tr>\n",
       "      <th>86</th>\n",
       "      <td>87</td>\n",
       "      <td>B0019CW0HE</td>\n",
       "      <td>Ash52</td>\n",
       "      <td>5</td>\n",
       "      <td>dog ton allergi environment food prescript dog...</td>\n",
       "      <td>Positive</td>\n",
       "      <td>Negative</td>\n",
       "      <td>0.620253</td>\n",
       "      <td>0.617831</td>\n",
       "      <td>0.62117</td>\n",
       "      <td>0.617584</td>\n",
       "    </tr>\n",
       "    <tr>\n",
       "      <th>2632</th>\n",
       "      <td>2633</td>\n",
       "      <td>B0016FY6H6</td>\n",
       "      <td>skyebluepink</td>\n",
       "      <td>3</td>\n",
       "      <td>look altern green white ice tea powder realiz ...</td>\n",
       "      <td>Neutral</td>\n",
       "      <td>Negative</td>\n",
       "      <td>0.620253</td>\n",
       "      <td>0.617831</td>\n",
       "      <td>0.62117</td>\n",
       "      <td>0.617584</td>\n",
       "    </tr>\n",
       "  </tbody>\n",
       "</table>\n",
       "</div>"
      ],
      "text/plain": [
       "        Id   ProductId                     ProfileName  Score  \\\n",
       "319    320  B001FB69YY                        dewalt66      5   \n",
       "2482  2483  B002JX7GVM  Michael D. Briggs \"Dark_Psion\"      2   \n",
       "4962  4963  B001DW2RGO                          Steele      3   \n",
       "86      87  B0019CW0HE                           Ash52      5   \n",
       "2632  2633  B0016FY6H6                    skyebluepink      3   \n",
       "\n",
       "                                                   Text Sentiment  \\\n",
       "319   use frequent like asian dish least week love p...  Positive   \n",
       "2482  receiv singl 85 contain one coconut water spla...  Negative   \n",
       "4962  six hour power help creat energet alert state ...   Neutral   \n",
       "86    dog ton allergi environment food prescript dog...  Positive   \n",
       "2632  look altern green white ice tea powder realiz ...   Neutral   \n",
       "\n",
       "     lr_predicted  lr_accuracy  lr_precision  lr_recall     lr_f1  \n",
       "319      Positive     0.620253      0.617831    0.62117  0.617584  \n",
       "2482     Negative     0.620253      0.617831    0.62117  0.617584  \n",
       "4962     Positive     0.620253      0.617831    0.62117  0.617584  \n",
       "86       Negative     0.620253      0.617831    0.62117  0.617584  \n",
       "2632     Negative     0.620253      0.617831    0.62117  0.617584  "
      ]
     },
     "execution_count": 122,
     "metadata": {},
     "output_type": "execute_result"
    }
   ],
   "source": [
    "df_test_logistic_regression = logistic_regression_sentiment_analysis(df_test, cv.transform(df_test.Text), lr_model)\n",
    "\n",
    "print(\"\\nQuantity of positive and negative values in the dataset:\")\n",
    "print(df_test.Sentiment.value_counts())\n",
    "\n",
    "print(\"\\nQuantity of positive and negative values found by the model:\")\n",
    "print(df_test_logistic_regression.lr_predicted.value_counts())\n",
    "\n",
    "df_test_logistic_regression.head()"
   ]
  },
  {
   "cell_type": "markdown",
   "metadata": {},
   "source": [
    "### Comparison of results"
   ]
  },
  {
   "cell_type": "markdown",
   "metadata": {},
   "source": [
    "#### Accuracy"
   ]
  },
  {
   "cell_type": "code",
   "execution_count": 123,
   "metadata": {},
   "outputs": [
    {
     "data": {
      "image/png": "[encoded data removed]",
      "text/plain": [
       "<Figure size 1000x500 with 1 Axes>"
      ]
     },
     "metadata": {},
     "output_type": "display_data"
    }
   ],
   "source": [
    "def plot_accuracy_comparasion(df_knn, df_vader, logistic_regression_df):\n",
    "    plt.figure(figsize=(10, 5))\n",
    "    plt.bar(['KNN', 'VADER', 'Logistic Regression'], [df_knn.knn_accuracy.mean(), df_vader.vader_accuracy.mean(), logistic_regression_df.lr_accuracy.mean()], color=['red', 'green', 'blue'])\n",
    "    plt.title('Accuracy comparasion')\n",
    "    plt.xlabel('Model')\n",
    "    plt.ylabel('Accuracy')\n",
    "    plt.show()\n",
    "\n",
    "plot_accuracy_comparasion(df_train_knn, df_train_vader, df_train_logistic_regression)"
   ]
  },
  {
   "cell_type": "markdown",
   "metadata": {},
   "source": [
    "#### Precision"
   ]
  },
  {
   "cell_type": "code",
   "execution_count": 124,
   "metadata": {},
   "outputs": [
    {
     "data": {
      "image/png": "[encoded data removed]",
      "text/plain": [
       "<Figure size 640x480 with 1 Axes>"
      ]
     },
     "metadata": {},
     "output_type": "display_data"
    }
   ],
   "source": [
    "def plot_precision_comparasion(df_knn, df_vader, logistic_regression_df):\n",
    "    x = ['knn', 'vader', 'logistic regression']\n",
    "    y = [df_knn.knn_precision.mean(), df_vader.vader_precision.mean(), logistic_regression_df.lr_precision.mean()]\n",
    "\n",
    "    plt.bar(x, y, color=['red', 'green', 'blue'])\n",
    "    plt.title('Precision comparasion')\n",
    "    plt.xlabel('Model')\n",
    "    plt.ylabel('Precision')\n",
    "    plt.show()\n",
    "\n",
    "plot_precision_comparasion(df_train_knn, df_train_vader, df_train_logistic_regression)"
   ]
  },
  {
   "cell_type": "markdown",
   "metadata": {},
   "source": [
    "#### Recall"
   ]
  },
  {
   "cell_type": "code",
   "execution_count": 125,
   "metadata": {},
   "outputs": [
    {
     "data": {
      "image/png": "[encoded data removed]",
      "text/plain": [
       "<Figure size 640x480 with 1 Axes>"
      ]
     },
     "metadata": {},
     "output_type": "display_data"
    }
   ],
   "source": [
    "def plot_recall_comparasion(df_knn, df_vader, logistic_regression_df):\n",
    "    x = ['knn', 'vader', 'logistic regression']\n",
    "    y = [df_knn.knn_recall.mean(), df_vader.vader_recall.mean(), logistic_regression_df.lr_recall.mean()]\n",
    "\n",
    "    plt.bar(x, y, color=['red', 'blue', 'green'])\n",
    "    plt.title('Recall comparasion')\n",
    "    plt.xlabel('Model')\n",
    "    plt.ylabel('Recall')\n",
    "    plt.show()\n",
    "\n",
    "plot_recall_comparasion(df_train_knn, df_train_vader, df_train_logistic_regression)"
   ]
  },
  {
   "cell_type": "markdown",
   "metadata": {},
   "source": [
    "#### F-Measure"
   ]
  },
  {
   "cell_type": "code",
   "execution_count": 126,
   "metadata": {},
   "outputs": [
    {
     "data": {
      "image/png": "[encoded data removed]",
      "text/plain": [
       "<Figure size 1000x600 with 1 Axes>"
      ]
     },
     "metadata": {},
     "output_type": "display_data"
    }
   ],
   "source": [
    "def plot_fmeasure_comparasion(knn_df, vader_df, logistic_regression_df):\n",
    "    plt.figure(figsize=(10, 6))\n",
    "\n",
    "    plt.bar('KNN', knn_df.knn_f1.mean(), color='red')\n",
    "    plt.bar('VADER', vader_df.vader_f1.mean(), color='blue')\n",
    "    plt.bar('Logistic Regression', logistic_regression_df.lr_f1.mean(), color='green')\n",
    "\n",
    "    plt.title('F-measure comparasion')\n",
    "    plt.xlabel('Model')\n",
    "    plt.ylabel('F-measure')\n",
    "\n",
    "    plt.show()\n",
    "\n",
    "plot_fmeasure_comparasion(df_train_knn, df_train_vader, df_train_logistic_regression)"
   ]
  }
 ],
 "metadata": {
  "kernelspec": {
   "display_name": "Python 3.11.0 64-bit",
   "language": "python",
   "name": "python3"
  },
  "language_info": {
   "codemirror_mode": {
    "name": "ipython",
    "version": 3
   },
   "file_extension": ".py",
   "mimetype": "text/x-python",
   "name": "python",
   "nbconvert_exporter": "python",
   "pygments_lexer": "ipython3",
   "version": "3.11.0"
  },
  "orig_nbformat": 4,
  "vscode": {
   "interpreter": {
    "hash": "507b3d2bd6a2fcaac61041e0b692894325b154ca042b34fb821ed65ea08d8bdd"
   }
  }
 },
 "nbformat": 4,
 "nbformat_minor": 2
}
